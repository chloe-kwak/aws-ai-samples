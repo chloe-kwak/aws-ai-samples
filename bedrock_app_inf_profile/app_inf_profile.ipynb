{
 "cells": [
  {
   "cell_type": "markdown",
   "id": "24b7b4c3-441f-4aa0-b652-6470abee1e63",
   "metadata": {},
   "source": [
    "# Amazon Bedrock Application Inference Profile\n",
    "\n",
    "이 노트북은 조직이 Amazon Bedrock 애플리케이션 추론 프로파일을 구현, 테스트, 검증 및 운영하는 방법을 보여줍니다. 애플리케이션 추론 프로파일을 효과적으로 관리하고 활용하는 방법에 대한 포괄적인 이해를 제공하는 것이 목표입니다.\n",
    "\n",
    "# Overview\n",
    "\n",
    "아마존 베드락 애플리케이션 추론 프로파일을 통해 조직은 모든 베드락 기반 파운데이션 모델에 비용 할당 태그를 지정하여 비용 센터, 사업 단위, 팀, 애플리케이션과 같은 조직 분류 체계별로 사용량을 분류할 수 있습니다. 여러 워크로드에서 AI 지출을 관리하는 이 확장 가능한 프로그래밍 방식은 수동 프로세스에 대한 의존도를 낮추고 비용 초과 위험을 줄이며 중요한 애플리케이션이 우선순위를 갖도록 보장합니다. AI 관련 비용에 대한 향상된 가시성과 제어 기능을 통해 조직은 GenAI 투자를 최적화하고 보다 효율적으로 혁신을 추진할 수 있습니다. 이 노트북은 애플리케이션 추론 프로필을 생성하고 모델을 호출하는 데 사용하는 방법을 보여줍니다.\n",
    "\n",
    "# Architecture\n",
    "![Architecture](./images/architecture.png)\n",
    "\n",
    "Amazon Bedrock의 추론 프로파일은 두 가지 유형이 있습니다:\n",
    "1. 크로스 리전 추론 프로파일\n",
    "- Bedrock 서비스가 사전 정의\n",
    "- 여러 리전으로 모델 요청을 라우팅\n",
    "- 복원력 향상과 처리량 개선\n",
    "- 트래픽 급증 관리에 효과적\n",
    "\n",
    "2. 애플리케이션 추론 프로파일\n",
    "- 사용자가 직접 생성\n",
    "- 단일 리전 또는 여러 리전으로 라우팅 가능\n",
    "- 비용과 모델 사용량 추적\n",
    "\n",
    "주요 이점:\n",
    "- CloudWatch 로그를 통한 사용량 지표 추적\n",
    "- 태그 기반 비용 모니터링\n",
    "- 크로스 리전 추론으로 처리량 향상\n",
    "\n",
    "이 노트북은 애플리케이션 추론 프로파일을 생성하고 이를 모델 호출에 활용하는 방법을 보여줍니다."
   ]
  },
  {
   "cell_type": "markdown",
   "id": "52629e8f",
   "metadata": {},
   "source": [
    "# Use case\n",
    "\n",
    "이 노트북에는 다음과 같은 다양한 Amazon Bedrock 애플리케이션 추론 프로파일 API 기능에 대한 구현, 테스트 및 유효성 검사 단계가 포함되어 있습니다:\n",
    "* Create Inference Profile\n",
    "* Get Inference Profile\n",
    "* List Inference Profiles\n",
    "* Invoke model with Inference Profile using Converse API\n",
    "* Invoke model with Inference Profile using ConverseStream API\n",
    "* Invoke model with Inference Profile using InvokeModel API\n",
    "* Invoke model with Inference Profile using InvokeModelWithResponseStream API\n",
    "* Tag Resource\n",
    "* List Tags For Resource\n",
    "* Untag Resource\n",
    "* Cleanup\n"
   ]
  },
  {
   "cell_type": "markdown",
   "id": "8d722e3c",
   "metadata": {},
   "source": [
    "## Prerequisites\n",
    "\n",
    "1. AWS 계정이 생성되었는지 확인합니다.: [Link](https://docs.aws.amazon.com/accounts/latest/reference/manage-acct-creating.html)\n",
    "2. 사용자에게 Amazon Bedrock에서 올바른 모델에 액세스할 수 있는 권한이 있는지 확인합니다.: [Link](https://docs.aws.amazon.com/bedrock/latest/userguide/model-access.html)\n",
    "3. 이 노트북은 AWS 자격 증명을 설정하여 진행했습니다."
   ]
  },
  {
   "cell_type": "markdown",
   "id": "1c8acd43",
   "metadata": {},
   "source": [
    "## Notebook Code with Comments"
   ]
  },
  {
   "cell_type": "markdown",
   "id": "5369eaa0-5983-4adf-a0ea-53a7616aad20",
   "metadata": {},
   "source": [
    "### Install dependecies"
   ]
  },
  {
   "cell_type": "code",
   "execution_count": null,
   "id": "9ecfefb2-2b51-47c8-9351-2eba17b842d5",
   "metadata": {},
   "outputs": [],
   "source": [
    "!pip install --upgrade --force-reinstall boto3 botocore awscli"
   ]
  },
  {
   "cell_type": "code",
   "execution_count": 1,
   "id": "9b1326b6-2f62-4c01-80cb-c11e6c9869c3",
   "metadata": {},
   "outputs": [
    {
     "name": "stdout",
     "output_type": "stream",
     "text": [
      "1.35.91\n"
     ]
    }
   ],
   "source": [
    "import boto3\n",
    "print(boto3.__version__)"
   ]
  },
  {
   "cell_type": "code",
   "execution_count": 2,
   "id": "3e7d0b3e-a801-4243-b064-26a22c656f59",
   "metadata": {},
   "outputs": [
    {
     "name": "stderr",
     "output_type": "stream",
     "text": [
      "/Users/younghwa/Desktop/chloe/LAB/Bedrock-Features/application_profile/infp/lib/python3.12/site-packages/pydantic/_internal/_fields.py:192: UserWarning: Field name \"json\" in \"MonitoringDatasetFormat\" shadows an attribute in parent \"Base\"\n",
      "  warnings.warn(\n"
     ]
    },
    {
     "data": {
      "text/html": [
       "<pre style=\"white-space:pre;overflow-x:auto;line-height:normal;font-family:Menlo,'DejaVu Sans Mono',consolas,'Courier New',monospace\"><span style=\"color: #7fbfbf; text-decoration-color: #7fbfbf\">[01/06/25 20:39:31] </span><span style=\"color: #0069ff; text-decoration-color: #0069ff; font-weight: bold\">INFO    </span> Found credentials in shared credentials file: ~<span style=\"color: #e100e1; text-decoration-color: #e100e1\">/.aws/credentials</span>   <a href=\"file:///Users/younghwa/Desktop/chloe/LAB/Bedrock-Features/application_profile/infp/lib/python3.12/site-packages/botocore/credentials.py\" target=\"_blank\"><span style=\"color: #7f7f7f; text-decoration-color: #7f7f7f\">credentials.py</span></a><span style=\"color: #7f7f7f; text-decoration-color: #7f7f7f\">:</span><a href=\"file:///Users/younghwa/Desktop/chloe/LAB/Bedrock-Features/application_profile/infp/lib/python3.12/site-packages/botocore/credentials.py#1278\" target=\"_blank\"><span style=\"color: #7f7f7f; text-decoration-color: #7f7f7f\">1278</span></a>\n",
       "</pre>\n"
      ],
      "text/plain": [
       "\u001b[2;36m[01/06/25 20:39:31]\u001b[0m\u001b[2;36m \u001b[0m\u001b[1;38;2;0;105;255mINFO    \u001b[0m Found credentials in shared credentials file: ~\u001b[38;2;225;0;225m/.aws/\u001b[0m\u001b[38;2;225;0;225mcredentials\u001b[0m   \u001b]8;id=685847;file:///Users/younghwa/Desktop/chloe/LAB/Bedrock-Features/application_profile/infp/lib/python3.12/site-packages/botocore/credentials.py\u001b\\\u001b[2mcredentials.py\u001b[0m\u001b]8;;\u001b\\\u001b[2m:\u001b[0m\u001b]8;id=714194;file:///Users/younghwa/Desktop/chloe/LAB/Bedrock-Features/application_profile/infp/lib/python3.12/site-packages/botocore/credentials.py#1278\u001b\\\u001b[2m1278\u001b[0m\u001b]8;;\u001b\\\n"
      ]
     },
     "metadata": {},
     "output_type": "display_data"
    },
    {
     "name": "stdout",
     "output_type": "stream",
     "text": [
      "sagemaker.config INFO - Not applying SDK defaults from location: /Library/Application Support/sagemaker/config.yaml\n",
      "sagemaker.config INFO - Not applying SDK defaults from location: /Users/younghwa/Library/Application Support/sagemaker/config.yaml\n"
     ]
    },
    {
     "data": {
      "text/html": [
       "<pre style=\"white-space:pre;overflow-x:auto;line-height:normal;font-family:Menlo,'DejaVu Sans Mono',consolas,'Courier New',monospace\"><span style=\"color: #7fbfbf; text-decoration-color: #7fbfbf\">                    </span><span style=\"color: #0069ff; text-decoration-color: #0069ff; font-weight: bold\">INFO    </span> Found credentials in shared credentials file: ~<span style=\"color: #e100e1; text-decoration-color: #e100e1\">/.aws/credentials</span>   <a href=\"file:///Users/younghwa/Desktop/chloe/LAB/Bedrock-Features/application_profile/infp/lib/python3.12/site-packages/botocore/credentials.py\" target=\"_blank\"><span style=\"color: #7f7f7f; text-decoration-color: #7f7f7f\">credentials.py</span></a><span style=\"color: #7f7f7f; text-decoration-color: #7f7f7f\">:</span><a href=\"file:///Users/younghwa/Desktop/chloe/LAB/Bedrock-Features/application_profile/infp/lib/python3.12/site-packages/botocore/credentials.py#1278\" target=\"_blank\"><span style=\"color: #7f7f7f; text-decoration-color: #7f7f7f\">1278</span></a>\n",
       "</pre>\n"
      ],
      "text/plain": [
       "\u001b[2;36m                   \u001b[0m\u001b[2;36m \u001b[0m\u001b[1;38;2;0;105;255mINFO    \u001b[0m Found credentials in shared credentials file: ~\u001b[38;2;225;0;225m/.aws/\u001b[0m\u001b[38;2;225;0;225mcredentials\u001b[0m   \u001b]8;id=825676;file:///Users/younghwa/Desktop/chloe/LAB/Bedrock-Features/application_profile/infp/lib/python3.12/site-packages/botocore/credentials.py\u001b\\\u001b[2mcredentials.py\u001b[0m\u001b]8;;\u001b\\\u001b[2m:\u001b[0m\u001b]8;id=488867;file:///Users/younghwa/Desktop/chloe/LAB/Bedrock-Features/application_profile/infp/lib/python3.12/site-packages/botocore/credentials.py#1278\u001b\\\u001b[2m1278\u001b[0m\u001b]8;;\u001b\\\n"
      ]
     },
     "metadata": {},
     "output_type": "display_data"
    },
    {
     "data": {
      "text/html": [
       "<pre style=\"white-space:pre;overflow-x:auto;line-height:normal;font-family:Menlo,'DejaVu Sans Mono',consolas,'Courier New',monospace\"><span style=\"color: #7fbfbf; text-decoration-color: #7fbfbf\">                    </span><span style=\"color: #0069ff; text-decoration-color: #0069ff; font-weight: bold\">INFO    </span> Found credentials in shared credentials file: ~<span style=\"color: #e100e1; text-decoration-color: #e100e1\">/.aws/credentials</span>   <a href=\"file:///Users/younghwa/Desktop/chloe/LAB/Bedrock-Features/application_profile/infp/lib/python3.12/site-packages/botocore/credentials.py\" target=\"_blank\"><span style=\"color: #7f7f7f; text-decoration-color: #7f7f7f\">credentials.py</span></a><span style=\"color: #7f7f7f; text-decoration-color: #7f7f7f\">:</span><a href=\"file:///Users/younghwa/Desktop/chloe/LAB/Bedrock-Features/application_profile/infp/lib/python3.12/site-packages/botocore/credentials.py#1278\" target=\"_blank\"><span style=\"color: #7f7f7f; text-decoration-color: #7f7f7f\">1278</span></a>\n",
       "</pre>\n"
      ],
      "text/plain": [
       "\u001b[2;36m                   \u001b[0m\u001b[2;36m \u001b[0m\u001b[1;38;2;0;105;255mINFO    \u001b[0m Found credentials in shared credentials file: ~\u001b[38;2;225;0;225m/.aws/\u001b[0m\u001b[38;2;225;0;225mcredentials\u001b[0m   \u001b]8;id=368407;file:///Users/younghwa/Desktop/chloe/LAB/Bedrock-Features/application_profile/infp/lib/python3.12/site-packages/botocore/credentials.py\u001b\\\u001b[2mcredentials.py\u001b[0m\u001b]8;;\u001b\\\u001b[2m:\u001b[0m\u001b]8;id=977657;file:///Users/younghwa/Desktop/chloe/LAB/Bedrock-Features/application_profile/infp/lib/python3.12/site-packages/botocore/credentials.py#1278\u001b\\\u001b[2m1278\u001b[0m\u001b]8;;\u001b\\\n"
      ]
     },
     "metadata": {},
     "output_type": "display_data"
    }
   ],
   "source": [
    "import boto3\n",
    "import sagemaker\n",
    "import re\n",
    "import time\n",
    "import json\n",
    "\n",
    "session = boto3.Session()\n",
    "sagemaker_session = sagemaker.Session()\n",
    "#role = sagemaker.get_execution_role()\n",
    "current_region = sagemaker_session.boto_region_name \n",
    "\n",
    "bedrock = session.client(\"bedrock\", region_name=current_region)\n",
    "br = session.client(\"bedrock-runtime\", region_name=current_region)"
   ]
  },
  {
   "cell_type": "code",
   "execution_count": 3,
   "id": "03af8b2e",
   "metadata": {},
   "outputs": [
    {
     "data": {
      "text/plain": [
       "'us-east-1'"
      ]
     },
     "execution_count": 3,
     "metadata": {},
     "output_type": "execute_result"
    }
   ],
   "source": [
    "current_region"
   ]
  },
  {
   "cell_type": "markdown",
   "id": "70bca13b-6909-4de8-ac3f-ca82694607f0",
   "metadata": {},
   "source": [
    "### List application inference profiles"
   ]
  },
  {
   "cell_type": "code",
   "execution_count": 4,
   "id": "356ba8c3-5739-44f9-b700-80f0104d23e1",
   "metadata": {},
   "outputs": [
    {
     "data": {
      "text/plain": [
       "{'ResponseMetadata': {'RequestId': '0db2462b-2142-4d2a-8301-ad05d6cda643',\n",
       "  'HTTPStatusCode': 200,\n",
       "  'HTTPHeaders': {'date': 'Mon, 06 Jan 2025 11:39:47 GMT',\n",
       "   'content-type': 'application/json',\n",
       "   'content-length': '31416',\n",
       "   'connection': 'keep-alive',\n",
       "   'x-amzn-requestid': '0db2462b-2142-4d2a-8301-ad05d6cda643'},\n",
       "  'RetryAttempts': 0},\n",
       " 'inferenceProfileSummaries': [{'inferenceProfileName': 'dzd_60k0gby0fv0wh3',\n",
       "   'description': 'Created by Amazon SageMaker Unified Studio for domain dzd_60k0gby0fv0wh3 to provide access to Amazon Bedrock model in domain playgrounds',\n",
       "   'createdAt': datetime.datetime(2024, 12, 16, 14, 36, 22, 326831, tzinfo=tzutc()),\n",
       "   'updatedAt': datetime.datetime(2024, 12, 16, 14, 36, 22, 326831, tzinfo=tzutc()),\n",
       "   'inferenceProfileArn': 'arn:aws:bedrock:us-east-1:603420654815:application-inference-profile/a5o6k9xmzuoy',\n",
       "   'models': [{'modelArn': 'arn:aws:bedrock:us-east-1::foundation-model/ai21.j2-mid-v1'}],\n",
       "   'inferenceProfileId': 'a5o6k9xmzuoy',\n",
       "   'status': 'ACTIVE',\n",
       "   'type': 'APPLICATION'},\n",
       "  {'inferenceProfileName': 'dzd_60k0gby0fv0wh3',\n",
       "   'description': 'Created by Amazon SageMaker Unified Studio for domain dzd_60k0gby0fv0wh3 to provide access to Amazon Bedrock model in domain playgrounds',\n",
       "   'createdAt': datetime.datetime(2024, 12, 16, 14, 36, 23, 206483, tzinfo=tzutc()),\n",
       "   'updatedAt': datetime.datetime(2024, 12, 16, 14, 36, 23, 206483, tzinfo=tzutc()),\n",
       "   'inferenceProfileArn': 'arn:aws:bedrock:us-east-1:603420654815:application-inference-profile/w8egrd7hafn9',\n",
       "   'models': [{'modelArn': 'arn:aws:bedrock:us-east-1::foundation-model/ai21.j2-ultra-v1'}],\n",
       "   'inferenceProfileId': 'w8egrd7hafn9',\n",
       "   'status': 'ACTIVE',\n",
       "   'type': 'APPLICATION'},\n",
       "  {'inferenceProfileName': 'dzd_60k0gby0fv0wh3',\n",
       "   'description': 'Created by Amazon SageMaker Unified Studio for domain dzd_60k0gby0fv0wh3 to provide access to Amazon Bedrock model in domain playgrounds',\n",
       "   'createdAt': datetime.datetime(2024, 12, 16, 14, 36, 24, 173161, tzinfo=tzutc()),\n",
       "   'updatedAt': datetime.datetime(2024, 12, 16, 14, 36, 24, 173161, tzinfo=tzutc()),\n",
       "   'inferenceProfileArn': 'arn:aws:bedrock:us-east-1:603420654815:application-inference-profile/87sy1rpkpkmf',\n",
       "   'models': [{'modelArn': 'arn:aws:bedrock:us-east-1::foundation-model/amazon.nova-canvas-v1:0'}],\n",
       "   'inferenceProfileId': '87sy1rpkpkmf',\n",
       "   'status': 'ACTIVE',\n",
       "   'type': 'APPLICATION'},\n",
       "  {'inferenceProfileName': 'dzd_60k0gby0fv0wh3',\n",
       "   'description': 'Created by Amazon SageMaker Unified Studio for domain dzd_60k0gby0fv0wh3 to provide access to Amazon Bedrock model in domain playgrounds',\n",
       "   'createdAt': datetime.datetime(2024, 12, 16, 14, 36, 24, 759886, tzinfo=tzutc()),\n",
       "   'updatedAt': datetime.datetime(2024, 12, 16, 14, 36, 24, 759886, tzinfo=tzutc()),\n",
       "   'inferenceProfileArn': 'arn:aws:bedrock:us-east-1:603420654815:application-inference-profile/y0c9ekqgkmam',\n",
       "   'models': [{'modelArn': 'arn:aws:bedrock:us-east-1::foundation-model/amazon.nova-lite-v1:0'},\n",
       "    {'modelArn': 'arn:aws:bedrock:us-west-2::foundation-model/amazon.nova-lite-v1:0'},\n",
       "    {'modelArn': 'arn:aws:bedrock:us-east-2::foundation-model/amazon.nova-lite-v1:0'}],\n",
       "   'inferenceProfileId': 'y0c9ekqgkmam',\n",
       "   'status': 'ACTIVE',\n",
       "   'type': 'APPLICATION'},\n",
       "  {'inferenceProfileName': 'dzd_60k0gby0fv0wh3',\n",
       "   'description': 'Created by Amazon SageMaker Unified Studio for domain dzd_60k0gby0fv0wh3 to provide access to Amazon Bedrock model in domain playgrounds',\n",
       "   'createdAt': datetime.datetime(2024, 12, 16, 14, 36, 25, 422331, tzinfo=tzutc()),\n",
       "   'updatedAt': datetime.datetime(2024, 12, 16, 14, 36, 25, 422331, tzinfo=tzutc()),\n",
       "   'inferenceProfileArn': 'arn:aws:bedrock:us-east-1:603420654815:application-inference-profile/iso75hjgqnme',\n",
       "   'models': [{'modelArn': 'arn:aws:bedrock:us-east-1::foundation-model/amazon.nova-micro-v1:0'},\n",
       "    {'modelArn': 'arn:aws:bedrock:us-west-2::foundation-model/amazon.nova-micro-v1:0'},\n",
       "    {'modelArn': 'arn:aws:bedrock:us-east-2::foundation-model/amazon.nova-micro-v1:0'}],\n",
       "   'inferenceProfileId': 'iso75hjgqnme',\n",
       "   'status': 'ACTIVE',\n",
       "   'type': 'APPLICATION'},\n",
       "  {'inferenceProfileName': 'dzd_60k0gby0fv0wh3',\n",
       "   'description': 'Created by Amazon SageMaker Unified Studio for domain dzd_60k0gby0fv0wh3 to provide access to Amazon Bedrock model in domain playgrounds',\n",
       "   'createdAt': datetime.datetime(2024, 12, 16, 14, 36, 25, 994533, tzinfo=tzutc()),\n",
       "   'updatedAt': datetime.datetime(2024, 12, 16, 14, 36, 25, 994533, tzinfo=tzutc()),\n",
       "   'inferenceProfileArn': 'arn:aws:bedrock:us-east-1:603420654815:application-inference-profile/nddzt9bnm6at',\n",
       "   'models': [{'modelArn': 'arn:aws:bedrock:us-east-1::foundation-model/amazon.nova-pro-v1:0'},\n",
       "    {'modelArn': 'arn:aws:bedrock:us-west-2::foundation-model/amazon.nova-pro-v1:0'},\n",
       "    {'modelArn': 'arn:aws:bedrock:us-east-2::foundation-model/amazon.nova-pro-v1:0'}],\n",
       "   'inferenceProfileId': 'nddzt9bnm6at',\n",
       "   'status': 'ACTIVE',\n",
       "   'type': 'APPLICATION'},\n",
       "  {'inferenceProfileName': 'dzd_60k0gby0fv0wh3',\n",
       "   'description': 'Created by Amazon SageMaker Unified Studio for domain dzd_60k0gby0fv0wh3 to provide access to Amazon Bedrock model in domain playgrounds',\n",
       "   'createdAt': datetime.datetime(2024, 12, 16, 14, 36, 26, 575233, tzinfo=tzutc()),\n",
       "   'updatedAt': datetime.datetime(2024, 12, 16, 14, 36, 26, 575233, tzinfo=tzutc()),\n",
       "   'inferenceProfileArn': 'arn:aws:bedrock:us-east-1:603420654815:application-inference-profile/1bmxacmlc9vg',\n",
       "   'models': [{'modelArn': 'arn:aws:bedrock:us-east-1::foundation-model/amazon.nova-reel-v1:0'}],\n",
       "   'inferenceProfileId': '1bmxacmlc9vg',\n",
       "   'status': 'ACTIVE',\n",
       "   'type': 'APPLICATION'},\n",
       "  {'inferenceProfileName': 'dzd_60k0gby0fv0wh3',\n",
       "   'description': 'Created by Amazon SageMaker Unified Studio for domain dzd_60k0gby0fv0wh3 to provide access to Amazon Bedrock model in domain playgrounds',\n",
       "   'createdAt': datetime.datetime(2024, 12, 16, 14, 36, 27, 150238, tzinfo=tzutc()),\n",
       "   'updatedAt': datetime.datetime(2024, 12, 16, 14, 36, 27, 150238, tzinfo=tzutc()),\n",
       "   'inferenceProfileArn': 'arn:aws:bedrock:us-east-1:603420654815:application-inference-profile/em8neo2z4l95',\n",
       "   'models': [{'modelArn': 'arn:aws:bedrock:us-east-1::foundation-model/amazon.titan-embed-text-v1'}],\n",
       "   'inferenceProfileId': 'em8neo2z4l95',\n",
       "   'status': 'ACTIVE',\n",
       "   'type': 'APPLICATION'},\n",
       "  {'inferenceProfileName': 'dzd_60k0gby0fv0wh3',\n",
       "   'description': 'Created by Amazon SageMaker Unified Studio for domain dzd_60k0gby0fv0wh3 to provide access to Amazon Bedrock model in domain playgrounds',\n",
       "   'createdAt': datetime.datetime(2024, 12, 16, 14, 36, 27, 647993, tzinfo=tzutc()),\n",
       "   'updatedAt': datetime.datetime(2024, 12, 16, 14, 36, 27, 647993, tzinfo=tzutc()),\n",
       "   'inferenceProfileArn': 'arn:aws:bedrock:us-east-1:603420654815:application-inference-profile/mc1dthdiamna',\n",
       "   'models': [{'modelArn': 'arn:aws:bedrock:us-east-1::foundation-model/amazon.titan-image-generator-v1'}],\n",
       "   'inferenceProfileId': 'mc1dthdiamna',\n",
       "   'status': 'ACTIVE',\n",
       "   'type': 'APPLICATION'},\n",
       "  {'inferenceProfileName': 'dzd_60k0gby0fv0wh3',\n",
       "   'description': 'Created by Amazon SageMaker Unified Studio for domain dzd_60k0gby0fv0wh3 to provide access to Amazon Bedrock model in domain playgrounds',\n",
       "   'createdAt': datetime.datetime(2024, 12, 16, 14, 36, 28, 18607, tzinfo=tzutc()),\n",
       "   'updatedAt': datetime.datetime(2024, 12, 16, 14, 36, 28, 18607, tzinfo=tzutc()),\n",
       "   'inferenceProfileArn': 'arn:aws:bedrock:us-east-1:603420654815:application-inference-profile/u568v8bvq61o',\n",
       "   'models': [{'modelArn': 'arn:aws:bedrock:us-east-1::foundation-model/amazon.titan-image-generator-v2:0'}],\n",
       "   'inferenceProfileId': 'u568v8bvq61o',\n",
       "   'status': 'ACTIVE',\n",
       "   'type': 'APPLICATION'},\n",
       "  {'inferenceProfileName': 'dzd_60k0gby0fv0wh3',\n",
       "   'description': 'Created by Amazon SageMaker Unified Studio for domain dzd_60k0gby0fv0wh3 to provide access to Amazon Bedrock model in domain playgrounds',\n",
       "   'createdAt': datetime.datetime(2024, 12, 16, 14, 36, 28, 558516, tzinfo=tzutc()),\n",
       "   'updatedAt': datetime.datetime(2024, 12, 16, 14, 36, 28, 558516, tzinfo=tzutc()),\n",
       "   'inferenceProfileArn': 'arn:aws:bedrock:us-east-1:603420654815:application-inference-profile/w9pdd75fxoph',\n",
       "   'models': [{'modelArn': 'arn:aws:bedrock:us-east-1::foundation-model/amazon.titan-embed-image-v1'}],\n",
       "   'inferenceProfileId': 'w9pdd75fxoph',\n",
       "   'status': 'ACTIVE',\n",
       "   'type': 'APPLICATION'},\n",
       "  {'inferenceProfileName': 'dzd_60k0gby0fv0wh3',\n",
       "   'description': 'Created by Amazon SageMaker Unified Studio for domain dzd_60k0gby0fv0wh3 to provide access to Amazon Bedrock model in domain playgrounds',\n",
       "   'createdAt': datetime.datetime(2024, 12, 16, 14, 36, 29, 87124, tzinfo=tzutc()),\n",
       "   'updatedAt': datetime.datetime(2024, 12, 16, 14, 36, 29, 87124, tzinfo=tzutc()),\n",
       "   'inferenceProfileArn': 'arn:aws:bedrock:us-east-1:603420654815:application-inference-profile/v5vx4lqk0ej3',\n",
       "   'models': [{'modelArn': 'arn:aws:bedrock:us-east-1::foundation-model/amazon.titan-embed-text-v2:0'}],\n",
       "   'inferenceProfileId': 'v5vx4lqk0ej3',\n",
       "   'status': 'ACTIVE',\n",
       "   'type': 'APPLICATION'},\n",
       "  {'inferenceProfileName': 'dzd_60k0gby0fv0wh3',\n",
       "   'description': 'Created by Amazon SageMaker Unified Studio for domain dzd_60k0gby0fv0wh3 to provide access to Amazon Bedrock model in domain playgrounds',\n",
       "   'createdAt': datetime.datetime(2024, 12, 16, 14, 36, 29, 640795, tzinfo=tzutc()),\n",
       "   'updatedAt': datetime.datetime(2024, 12, 16, 14, 36, 29, 640795, tzinfo=tzutc()),\n",
       "   'inferenceProfileArn': 'arn:aws:bedrock:us-east-1:603420654815:application-inference-profile/6rp34hrc98z1',\n",
       "   'models': [{'modelArn': 'arn:aws:bedrock:us-east-1::foundation-model/amazon.titan-text-express-v1'}],\n",
       "   'inferenceProfileId': '6rp34hrc98z1',\n",
       "   'status': 'ACTIVE',\n",
       "   'type': 'APPLICATION'},\n",
       "  {'inferenceProfileName': 'dzd_60k0gby0fv0wh3',\n",
       "   'description': 'Created by Amazon SageMaker Unified Studio for domain dzd_60k0gby0fv0wh3 to provide access to Amazon Bedrock model in domain playgrounds',\n",
       "   'createdAt': datetime.datetime(2024, 12, 16, 14, 36, 30, 31885, tzinfo=tzutc()),\n",
       "   'updatedAt': datetime.datetime(2024, 12, 16, 14, 36, 30, 31885, tzinfo=tzutc()),\n",
       "   'inferenceProfileArn': 'arn:aws:bedrock:us-east-1:603420654815:application-inference-profile/g1fexs7yp0s2',\n",
       "   'models': [{'modelArn': 'arn:aws:bedrock:us-east-1::foundation-model/amazon.titan-text-lite-v1'}],\n",
       "   'inferenceProfileId': 'g1fexs7yp0s2',\n",
       "   'status': 'ACTIVE',\n",
       "   'type': 'APPLICATION'},\n",
       "  {'inferenceProfileName': 'dzd_60k0gby0fv0wh3',\n",
       "   'description': 'Created by Amazon SageMaker Unified Studio for domain dzd_60k0gby0fv0wh3 to provide access to Amazon Bedrock model in domain playgrounds',\n",
       "   'createdAt': datetime.datetime(2024, 12, 16, 14, 36, 30, 596060, tzinfo=tzutc()),\n",
       "   'updatedAt': datetime.datetime(2024, 12, 16, 14, 36, 30, 596060, tzinfo=tzutc()),\n",
       "   'inferenceProfileArn': 'arn:aws:bedrock:us-east-1:603420654815:application-inference-profile/i9f7x29u45yh',\n",
       "   'models': [{'modelArn': 'arn:aws:bedrock:us-east-1::foundation-model/amazon.titan-text-premier-v1:0'}],\n",
       "   'inferenceProfileId': 'i9f7x29u45yh',\n",
       "   'status': 'ACTIVE',\n",
       "   'type': 'APPLICATION'},\n",
       "  {'inferenceProfileName': 'dzd_60k0gby0fv0wh3',\n",
       "   'description': 'Created by Amazon SageMaker Unified Studio for domain dzd_60k0gby0fv0wh3 to provide access to Amazon Bedrock model in domain playgrounds',\n",
       "   'createdAt': datetime.datetime(2024, 12, 16, 14, 36, 31, 167792, tzinfo=tzutc()),\n",
       "   'updatedAt': datetime.datetime(2024, 12, 16, 14, 36, 31, 167792, tzinfo=tzutc()),\n",
       "   'inferenceProfileArn': 'arn:aws:bedrock:us-east-1:603420654815:application-inference-profile/fh3lz53j3rmn',\n",
       "   'models': [{'modelArn': 'arn:aws:bedrock:us-east-1::foundation-model/anthropic.claude-v2:1'}],\n",
       "   'inferenceProfileId': 'fh3lz53j3rmn',\n",
       "   'status': 'ACTIVE',\n",
       "   'type': 'APPLICATION'},\n",
       "  {'inferenceProfileName': 'dzd_60k0gby0fv0wh3',\n",
       "   'description': 'Created by Amazon SageMaker Unified Studio for domain dzd_60k0gby0fv0wh3 to provide access to Amazon Bedrock model in domain playgrounds',\n",
       "   'createdAt': datetime.datetime(2024, 12, 16, 14, 36, 31, 716849, tzinfo=tzutc()),\n",
       "   'updatedAt': datetime.datetime(2024, 12, 16, 14, 36, 31, 716849, tzinfo=tzutc()),\n",
       "   'inferenceProfileArn': 'arn:aws:bedrock:us-east-1:603420654815:application-inference-profile/k9ytejw39u1x',\n",
       "   'models': [{'modelArn': 'arn:aws:bedrock:us-east-1::foundation-model/anthropic.claude-v2'}],\n",
       "   'inferenceProfileId': 'k9ytejw39u1x',\n",
       "   'status': 'ACTIVE',\n",
       "   'type': 'APPLICATION'},\n",
       "  {'inferenceProfileName': 'dzd_60k0gby0fv0wh3',\n",
       "   'description': 'Created by Amazon SageMaker Unified Studio for domain dzd_60k0gby0fv0wh3 to provide access to Amazon Bedrock model in domain playgrounds',\n",
       "   'createdAt': datetime.datetime(2024, 12, 16, 14, 36, 32, 300161, tzinfo=tzutc()),\n",
       "   'updatedAt': datetime.datetime(2024, 12, 16, 14, 36, 32, 300161, tzinfo=tzutc()),\n",
       "   'inferenceProfileArn': 'arn:aws:bedrock:us-east-1:603420654815:application-inference-profile/8fc3xjppaypg',\n",
       "   'models': [{'modelArn': 'arn:aws:bedrock:us-east-1::foundation-model/anthropic.claude-3-haiku-20240307-v1:0'},\n",
       "    {'modelArn': 'arn:aws:bedrock:us-west-2::foundation-model/anthropic.claude-3-haiku-20240307-v1:0'}],\n",
       "   'inferenceProfileId': '8fc3xjppaypg',\n",
       "   'status': 'ACTIVE',\n",
       "   'type': 'APPLICATION'},\n",
       "  {'inferenceProfileName': 'dzd_60k0gby0fv0wh3',\n",
       "   'description': 'Created by Amazon SageMaker Unified Studio for domain dzd_60k0gby0fv0wh3 to provide access to Amazon Bedrock model in domain playgrounds',\n",
       "   'createdAt': datetime.datetime(2024, 12, 16, 14, 36, 32, 904465, tzinfo=tzutc()),\n",
       "   'updatedAt': datetime.datetime(2024, 12, 16, 14, 36, 32, 904465, tzinfo=tzutc()),\n",
       "   'inferenceProfileArn': 'arn:aws:bedrock:us-east-1:603420654815:application-inference-profile/9x3arpkc44tv',\n",
       "   'models': [{'modelArn': 'arn:aws:bedrock:us-east-1::foundation-model/anthropic.claude-3-opus-20240229-v1:0'},\n",
       "    {'modelArn': 'arn:aws:bedrock:us-west-2::foundation-model/anthropic.claude-3-opus-20240229-v1:0'}],\n",
       "   'inferenceProfileId': '9x3arpkc44tv',\n",
       "   'status': 'ACTIVE',\n",
       "   'type': 'APPLICATION'},\n",
       "  {'inferenceProfileName': 'dzd_60k0gby0fv0wh3',\n",
       "   'description': 'Created by Amazon SageMaker Unified Studio for domain dzd_60k0gby0fv0wh3 to provide access to Amazon Bedrock model in domain playgrounds',\n",
       "   'createdAt': datetime.datetime(2024, 12, 16, 14, 36, 33, 524421, tzinfo=tzutc()),\n",
       "   'updatedAt': datetime.datetime(2024, 12, 16, 14, 36, 33, 524421, tzinfo=tzutc()),\n",
       "   'inferenceProfileArn': 'arn:aws:bedrock:us-east-1:603420654815:application-inference-profile/smq0u7pycrrt',\n",
       "   'models': [{'modelArn': 'arn:aws:bedrock:us-east-1::foundation-model/anthropic.claude-3-sonnet-20240229-v1:0'},\n",
       "    {'modelArn': 'arn:aws:bedrock:us-west-2::foundation-model/anthropic.claude-3-sonnet-20240229-v1:0'}],\n",
       "   'inferenceProfileId': 'smq0u7pycrrt',\n",
       "   'status': 'ACTIVE',\n",
       "   'type': 'APPLICATION'},\n",
       "  {'inferenceProfileName': 'dzd_60k0gby0fv0wh3',\n",
       "   'description': 'Created by Amazon SageMaker Unified Studio for domain dzd_60k0gby0fv0wh3 to provide access to Amazon Bedrock model in domain playgrounds',\n",
       "   'createdAt': datetime.datetime(2024, 12, 16, 14, 36, 34, 121570, tzinfo=tzutc()),\n",
       "   'updatedAt': datetime.datetime(2024, 12, 16, 14, 36, 34, 121570, tzinfo=tzutc()),\n",
       "   'inferenceProfileArn': 'arn:aws:bedrock:us-east-1:603420654815:application-inference-profile/tnp1l82ugecb',\n",
       "   'models': [{'modelArn': 'arn:aws:bedrock:us-east-1::foundation-model/anthropic.claude-3-5-haiku-20241022-v1:0'},\n",
       "    {'modelArn': 'arn:aws:bedrock:us-east-2::foundation-model/anthropic.claude-3-5-haiku-20241022-v1:0'},\n",
       "    {'modelArn': 'arn:aws:bedrock:us-west-2::foundation-model/anthropic.claude-3-5-haiku-20241022-v1:0'}],\n",
       "   'inferenceProfileId': 'tnp1l82ugecb',\n",
       "   'status': 'ACTIVE',\n",
       "   'type': 'APPLICATION'},\n",
       "  {'inferenceProfileName': 'dzd_60k0gby0fv0wh3',\n",
       "   'description': 'Created by Amazon SageMaker Unified Studio for domain dzd_60k0gby0fv0wh3 to provide access to Amazon Bedrock model in domain playgrounds',\n",
       "   'createdAt': datetime.datetime(2024, 12, 16, 14, 36, 34, 586478, tzinfo=tzutc()),\n",
       "   'updatedAt': datetime.datetime(2024, 12, 16, 14, 36, 34, 586478, tzinfo=tzutc()),\n",
       "   'inferenceProfileArn': 'arn:aws:bedrock:us-east-1:603420654815:application-inference-profile/b23lik02vr1j',\n",
       "   'models': [{'modelArn': 'arn:aws:bedrock:us-east-1::foundation-model/anthropic.claude-3-5-sonnet-20240620-v1:0'},\n",
       "    {'modelArn': 'arn:aws:bedrock:us-west-2::foundation-model/anthropic.claude-3-5-sonnet-20240620-v1:0'}],\n",
       "   'inferenceProfileId': 'b23lik02vr1j',\n",
       "   'status': 'ACTIVE',\n",
       "   'type': 'APPLICATION'},\n",
       "  {'inferenceProfileName': 'dzd_60k0gby0fv0wh3',\n",
       "   'description': 'Created by Amazon SageMaker Unified Studio for domain dzd_60k0gby0fv0wh3 to provide access to Amazon Bedrock model in domain playgrounds',\n",
       "   'createdAt': datetime.datetime(2024, 12, 16, 14, 36, 35, 204729, tzinfo=tzutc()),\n",
       "   'updatedAt': datetime.datetime(2024, 12, 16, 14, 36, 35, 204729, tzinfo=tzutc()),\n",
       "   'inferenceProfileArn': 'arn:aws:bedrock:us-east-1:603420654815:application-inference-profile/1teqnomrd9xv',\n",
       "   'models': [{'modelArn': 'arn:aws:bedrock:us-east-1::foundation-model/anthropic.claude-3-5-sonnet-20241022-v2:0'},\n",
       "    {'modelArn': 'arn:aws:bedrock:us-east-2::foundation-model/anthropic.claude-3-5-sonnet-20241022-v2:0'},\n",
       "    {'modelArn': 'arn:aws:bedrock:us-west-2::foundation-model/anthropic.claude-3-5-sonnet-20241022-v2:0'}],\n",
       "   'inferenceProfileId': '1teqnomrd9xv',\n",
       "   'status': 'ACTIVE',\n",
       "   'type': 'APPLICATION'},\n",
       "  {'inferenceProfileName': 'dzd_60k0gby0fv0wh3',\n",
       "   'description': 'Created by Amazon SageMaker Unified Studio for domain dzd_60k0gby0fv0wh3 to provide access to Amazon Bedrock model in domain playgrounds',\n",
       "   'createdAt': datetime.datetime(2024, 12, 16, 14, 36, 35, 775531, tzinfo=tzutc()),\n",
       "   'updatedAt': datetime.datetime(2024, 12, 16, 14, 36, 35, 775531, tzinfo=tzutc()),\n",
       "   'inferenceProfileArn': 'arn:aws:bedrock:us-east-1:603420654815:application-inference-profile/foz4gm850ep3',\n",
       "   'models': [{'modelArn': 'arn:aws:bedrock:us-east-1::foundation-model/anthropic.claude-instant-v1'}],\n",
       "   'inferenceProfileId': 'foz4gm850ep3',\n",
       "   'status': 'ACTIVE',\n",
       "   'type': 'APPLICATION'},\n",
       "  {'inferenceProfileName': 'dzd_60k0gby0fv0wh3',\n",
       "   'description': 'Created by Amazon SageMaker Unified Studio for domain dzd_60k0gby0fv0wh3 to provide access to Amazon Bedrock model in domain playgrounds',\n",
       "   'createdAt': datetime.datetime(2024, 12, 16, 14, 36, 36, 345102, tzinfo=tzutc()),\n",
       "   'updatedAt': datetime.datetime(2024, 12, 16, 14, 36, 36, 345102, tzinfo=tzutc()),\n",
       "   'inferenceProfileArn': 'arn:aws:bedrock:us-east-1:603420654815:application-inference-profile/eip7dtpk4y6b',\n",
       "   'models': [{'modelArn': 'arn:aws:bedrock:us-east-1::foundation-model/cohere.command-r-v1:0'}],\n",
       "   'inferenceProfileId': 'eip7dtpk4y6b',\n",
       "   'status': 'ACTIVE',\n",
       "   'type': 'APPLICATION'},\n",
       "  {'inferenceProfileName': 'dzd_60k0gby0fv0wh3',\n",
       "   'description': 'Created by Amazon SageMaker Unified Studio for domain dzd_60k0gby0fv0wh3 to provide access to Amazon Bedrock model in domain playgrounds',\n",
       "   'createdAt': datetime.datetime(2024, 12, 16, 14, 36, 36, 716874, tzinfo=tzutc()),\n",
       "   'updatedAt': datetime.datetime(2024, 12, 16, 14, 36, 36, 716874, tzinfo=tzutc()),\n",
       "   'inferenceProfileArn': 'arn:aws:bedrock:us-east-1:603420654815:application-inference-profile/z6b7knwva88q',\n",
       "   'models': [{'modelArn': 'arn:aws:bedrock:us-east-1::foundation-model/cohere.command-r-plus-v1:0'}],\n",
       "   'inferenceProfileId': 'z6b7knwva88q',\n",
       "   'status': 'ACTIVE',\n",
       "   'type': 'APPLICATION'},\n",
       "  {'inferenceProfileName': 'dzd_60k0gby0fv0wh3',\n",
       "   'description': 'Created by Amazon SageMaker Unified Studio for domain dzd_60k0gby0fv0wh3 to provide access to Amazon Bedrock model in domain playgrounds',\n",
       "   'createdAt': datetime.datetime(2024, 12, 16, 14, 36, 37, 201149, tzinfo=tzutc()),\n",
       "   'updatedAt': datetime.datetime(2024, 12, 16, 14, 36, 37, 201149, tzinfo=tzutc()),\n",
       "   'inferenceProfileArn': 'arn:aws:bedrock:us-east-1:603420654815:application-inference-profile/6qw3i4jc9f02',\n",
       "   'models': [{'modelArn': 'arn:aws:bedrock:us-east-1::foundation-model/cohere.embed-english-v3'}],\n",
       "   'inferenceProfileId': '6qw3i4jc9f02',\n",
       "   'status': 'ACTIVE',\n",
       "   'type': 'APPLICATION'},\n",
       "  {'inferenceProfileName': 'dzd_60k0gby0fv0wh3',\n",
       "   'description': 'Created by Amazon SageMaker Unified Studio for domain dzd_60k0gby0fv0wh3 to provide access to Amazon Bedrock model in domain playgrounds',\n",
       "   'createdAt': datetime.datetime(2024, 12, 16, 14, 36, 37, 554409, tzinfo=tzutc()),\n",
       "   'updatedAt': datetime.datetime(2024, 12, 16, 14, 36, 37, 554409, tzinfo=tzutc()),\n",
       "   'inferenceProfileArn': 'arn:aws:bedrock:us-east-1:603420654815:application-inference-profile/0kd1iln7ac6t',\n",
       "   'models': [{'modelArn': 'arn:aws:bedrock:us-east-1::foundation-model/cohere.embed-multilingual-v3'}],\n",
       "   'inferenceProfileId': '0kd1iln7ac6t',\n",
       "   'status': 'ACTIVE',\n",
       "   'type': 'APPLICATION'},\n",
       "  {'inferenceProfileName': 'dzd_60k0gby0fv0wh3',\n",
       "   'description': 'Created by Amazon SageMaker Unified Studio for domain dzd_60k0gby0fv0wh3 to provide access to Amazon Bedrock model in domain playgrounds',\n",
       "   'createdAt': datetime.datetime(2024, 12, 16, 14, 36, 38, 14454, tzinfo=tzutc()),\n",
       "   'updatedAt': datetime.datetime(2024, 12, 16, 14, 36, 38, 14454, tzinfo=tzutc()),\n",
       "   'inferenceProfileArn': 'arn:aws:bedrock:us-east-1:603420654815:application-inference-profile/sl3aenmfuy5k',\n",
       "   'models': [{'modelArn': 'arn:aws:bedrock:us-east-1::foundation-model/meta.llama3-70b-instruct-v1:0'}],\n",
       "   'inferenceProfileId': 'sl3aenmfuy5k',\n",
       "   'status': 'ACTIVE',\n",
       "   'type': 'APPLICATION'},\n",
       "  {'inferenceProfileName': 'dzd_60k0gby0fv0wh3',\n",
       "   'description': 'Created by Amazon SageMaker Unified Studio for domain dzd_60k0gby0fv0wh3 to provide access to Amazon Bedrock model in domain playgrounds',\n",
       "   'createdAt': datetime.datetime(2024, 12, 16, 14, 36, 38, 503717, tzinfo=tzutc()),\n",
       "   'updatedAt': datetime.datetime(2024, 12, 16, 14, 36, 38, 503717, tzinfo=tzutc()),\n",
       "   'inferenceProfileArn': 'arn:aws:bedrock:us-east-1:603420654815:application-inference-profile/1v6mqwi0zyoj',\n",
       "   'models': [{'modelArn': 'arn:aws:bedrock:us-east-1::foundation-model/meta.llama3-8b-instruct-v1:0'}],\n",
       "   'inferenceProfileId': '1v6mqwi0zyoj',\n",
       "   'status': 'ACTIVE',\n",
       "   'type': 'APPLICATION'},\n",
       "  {'inferenceProfileName': 'dzd_60k0gby0fv0wh3',\n",
       "   'description': 'Created by Amazon SageMaker Unified Studio for domain dzd_60k0gby0fv0wh3 to provide access to Amazon Bedrock model in domain playgrounds',\n",
       "   'createdAt': datetime.datetime(2024, 12, 16, 14, 36, 38, 989028, tzinfo=tzutc()),\n",
       "   'updatedAt': datetime.datetime(2024, 12, 16, 14, 36, 38, 989028, tzinfo=tzutc()),\n",
       "   'inferenceProfileArn': 'arn:aws:bedrock:us-east-1:603420654815:application-inference-profile/4t3u8m2mkbun',\n",
       "   'models': [{'modelArn': 'arn:aws:bedrock:us-east-1::foundation-model/mistral.mistral-7b-instruct-v0:2'}],\n",
       "   'inferenceProfileId': '4t3u8m2mkbun',\n",
       "   'status': 'ACTIVE',\n",
       "   'type': 'APPLICATION'},\n",
       "  {'inferenceProfileName': 'dzd_60k0gby0fv0wh3',\n",
       "   'description': 'Created by Amazon SageMaker Unified Studio for domain dzd_60k0gby0fv0wh3 to provide access to Amazon Bedrock model in domain playgrounds',\n",
       "   'createdAt': datetime.datetime(2024, 12, 16, 14, 36, 39, 416370, tzinfo=tzutc()),\n",
       "   'updatedAt': datetime.datetime(2024, 12, 16, 14, 36, 39, 416370, tzinfo=tzutc()),\n",
       "   'inferenceProfileArn': 'arn:aws:bedrock:us-east-1:603420654815:application-inference-profile/aty6zitj8mse',\n",
       "   'models': [{'modelArn': 'arn:aws:bedrock:us-east-1::foundation-model/mistral.mistral-large-2402-v1:0'}],\n",
       "   'inferenceProfileId': 'aty6zitj8mse',\n",
       "   'status': 'ACTIVE',\n",
       "   'type': 'APPLICATION'},\n",
       "  {'inferenceProfileName': 'dzd_60k0gby0fv0wh3',\n",
       "   'description': 'Created by Amazon SageMaker Unified Studio for domain dzd_60k0gby0fv0wh3 to provide access to Amazon Bedrock model in domain playgrounds',\n",
       "   'createdAt': datetime.datetime(2024, 12, 16, 14, 36, 39, 858217, tzinfo=tzutc()),\n",
       "   'updatedAt': datetime.datetime(2024, 12, 16, 14, 36, 39, 858217, tzinfo=tzutc()),\n",
       "   'inferenceProfileArn': 'arn:aws:bedrock:us-east-1:603420654815:application-inference-profile/8x62xe2utf1x',\n",
       "   'models': [{'modelArn': 'arn:aws:bedrock:us-east-1::foundation-model/mistral.mistral-small-2402-v1:0'}],\n",
       "   'inferenceProfileId': '8x62xe2utf1x',\n",
       "   'status': 'ACTIVE',\n",
       "   'type': 'APPLICATION'},\n",
       "  {'inferenceProfileName': 'dzd_60k0gby0fv0wh3',\n",
       "   'description': 'Created by Amazon SageMaker Unified Studio for domain dzd_60k0gby0fv0wh3 to provide access to Amazon Bedrock model in domain playgrounds',\n",
       "   'createdAt': datetime.datetime(2024, 12, 16, 14, 36, 40, 416403, tzinfo=tzutc()),\n",
       "   'updatedAt': datetime.datetime(2024, 12, 16, 14, 36, 40, 416403, tzinfo=tzutc()),\n",
       "   'inferenceProfileArn': 'arn:aws:bedrock:us-east-1:603420654815:application-inference-profile/1ky7w6yfg9z6',\n",
       "   'models': [{'modelArn': 'arn:aws:bedrock:us-east-1::foundation-model/mistral.mixtral-8x7b-instruct-v0:1'}],\n",
       "   'inferenceProfileId': '1ky7w6yfg9z6',\n",
       "   'status': 'ACTIVE',\n",
       "   'type': 'APPLICATION'},\n",
       "  {'inferenceProfileName': 'dzd_60k0gby0fv0wh3',\n",
       "   'description': 'Created by Amazon SageMaker Unified Studio for domain dzd_60k0gby0fv0wh3 to provide access to Amazon Bedrock model in domain playgrounds',\n",
       "   'createdAt': datetime.datetime(2024, 12, 16, 14, 36, 40, 918467, tzinfo=tzutc()),\n",
       "   'updatedAt': datetime.datetime(2024, 12, 16, 14, 36, 40, 918467, tzinfo=tzutc()),\n",
       "   'inferenceProfileArn': 'arn:aws:bedrock:us-east-1:603420654815:application-inference-profile/23ayts0vj72t',\n",
       "   'models': [{'modelArn': 'arn:aws:bedrock:us-east-1::foundation-model/stability.stable-diffusion-xl-v1'}],\n",
       "   'inferenceProfileId': '23ayts0vj72t',\n",
       "   'status': 'ACTIVE',\n",
       "   'type': 'APPLICATION'},\n",
       "  {'inferenceProfileName': 'dzd_60k0gby0fv0wh3',\n",
       "   'description': 'Created by Amazon SageMaker Unified Studio for domain dzd_60k0gby0fv0wh3 to provide access to Amazon Bedrock model in domain playgrounds',\n",
       "   'createdAt': datetime.datetime(2024, 12, 16, 14, 55, 27, 365998, tzinfo=tzutc()),\n",
       "   'updatedAt': datetime.datetime(2024, 12, 16, 14, 55, 27, 365998, tzinfo=tzutc()),\n",
       "   'inferenceProfileArn': 'arn:aws:bedrock:us-east-1:603420654815:application-inference-profile/ctke40quochi',\n",
       "   'models': [{'modelArn': 'arn:aws:bedrock:us-east-1::foundation-model/anthropic.claude-3-5-sonnet-20240620-v1:0'},\n",
       "    {'modelArn': 'arn:aws:bedrock:us-west-2::foundation-model/anthropic.claude-3-5-sonnet-20240620-v1:0'}],\n",
       "   'inferenceProfileId': 'ctke40quochi',\n",
       "   'status': 'ACTIVE',\n",
       "   'type': 'APPLICATION'},\n",
       "  {'inferenceProfileName': 'dzd_60k0gby0fv0wh3',\n",
       "   'description': 'Created by Amazon SageMaker Unified Studio for domain dzd_60k0gby0fv0wh3 to provide access to Amazon Bedrock model in domain playgrounds',\n",
       "   'createdAt': datetime.datetime(2024, 12, 16, 14, 55, 49, 746423, tzinfo=tzutc()),\n",
       "   'updatedAt': datetime.datetime(2024, 12, 16, 14, 55, 49, 746423, tzinfo=tzutc()),\n",
       "   'inferenceProfileArn': 'arn:aws:bedrock:us-east-1:603420654815:application-inference-profile/w5kg8xre7dac',\n",
       "   'models': [{'modelArn': 'arn:aws:bedrock:us-east-1::foundation-model/anthropic.claude-3-sonnet-20240229-v1:0'},\n",
       "    {'modelArn': 'arn:aws:bedrock:us-west-2::foundation-model/anthropic.claude-3-sonnet-20240229-v1:0'}],\n",
       "   'inferenceProfileId': 'w5kg8xre7dac',\n",
       "   'status': 'ACTIVE',\n",
       "   'type': 'APPLICATION'},\n",
       "  {'inferenceProfileName': 'dzd_60k0gby0fv0wh3',\n",
       "   'description': 'Created by Amazon SageMaker Unified Studio for domain dzd_60k0gby0fv0wh3 to provide access to Amazon Bedrock model in domain playgrounds',\n",
       "   'createdAt': datetime.datetime(2024, 12, 16, 14, 56, 10, 646401, tzinfo=tzutc()),\n",
       "   'updatedAt': datetime.datetime(2024, 12, 16, 14, 56, 10, 646401, tzinfo=tzutc()),\n",
       "   'inferenceProfileArn': 'arn:aws:bedrock:us-east-1:603420654815:application-inference-profile/42unmgi6fffw',\n",
       "   'models': [{'modelArn': 'arn:aws:bedrock:us-east-1::foundation-model/anthropic.claude-3-haiku-20240307-v1:0'},\n",
       "    {'modelArn': 'arn:aws:bedrock:us-west-2::foundation-model/anthropic.claude-3-haiku-20240307-v1:0'}],\n",
       "   'inferenceProfileId': '42unmgi6fffw',\n",
       "   'status': 'ACTIVE',\n",
       "   'type': 'APPLICATION'},\n",
       "  {'inferenceProfileName': 'dzd_60k0gby0fv0wh3',\n",
       "   'description': 'Created by Amazon SageMaker Unified Studio for domain dzd_60k0gby0fv0wh3 to provide access to Amazon Bedrock model in domain playgrounds',\n",
       "   'createdAt': datetime.datetime(2024, 12, 16, 14, 56, 32, 928300, tzinfo=tzutc()),\n",
       "   'updatedAt': datetime.datetime(2024, 12, 16, 14, 56, 32, 928300, tzinfo=tzutc()),\n",
       "   'inferenceProfileArn': 'arn:aws:bedrock:us-east-1:603420654815:application-inference-profile/lfysbrbx4iqj',\n",
       "   'models': [{'modelArn': 'arn:aws:bedrock:us-east-1::foundation-model/amazon.nova-pro-v1:0'},\n",
       "    {'modelArn': 'arn:aws:bedrock:us-west-2::foundation-model/amazon.nova-pro-v1:0'},\n",
       "    {'modelArn': 'arn:aws:bedrock:us-east-2::foundation-model/amazon.nova-pro-v1:0'}],\n",
       "   'inferenceProfileId': 'lfysbrbx4iqj',\n",
       "   'status': 'ACTIVE',\n",
       "   'type': 'APPLICATION'},\n",
       "  {'inferenceProfileName': 'dzd_60k0gby0fv0wh3',\n",
       "   'description': 'Created by Amazon SageMaker Unified Studio for domain dzd_60k0gby0fv0wh3 to provide access to Amazon Bedrock model in domain playgrounds',\n",
       "   'createdAt': datetime.datetime(2024, 12, 16, 14, 57, 4, 2412, tzinfo=tzutc()),\n",
       "   'updatedAt': datetime.datetime(2024, 12, 16, 14, 57, 4, 2412, tzinfo=tzutc()),\n",
       "   'inferenceProfileArn': 'arn:aws:bedrock:us-east-1:603420654815:application-inference-profile/55xymnmxsbdn',\n",
       "   'models': [{'modelArn': 'arn:aws:bedrock:us-east-1::foundation-model/amazon.nova-micro-v1:0'},\n",
       "    {'modelArn': 'arn:aws:bedrock:us-west-2::foundation-model/amazon.nova-micro-v1:0'},\n",
       "    {'modelArn': 'arn:aws:bedrock:us-east-2::foundation-model/amazon.nova-micro-v1:0'}],\n",
       "   'inferenceProfileId': '55xymnmxsbdn',\n",
       "   'status': 'ACTIVE',\n",
       "   'type': 'APPLICATION'},\n",
       "  {'inferenceProfileName': 'dzd_60k0gby0fv0wh3 dlf11q7cp18xt3',\n",
       "   'description': 'Created by Amazon SageMaker Unified Studio for domain dzd_60k0gby0fv0wh3 to provide access to Amazon Bedrock model in project dlf11q7cp18xt3',\n",
       "   'createdAt': datetime.datetime(2024, 12, 16, 14, 57, 7, 663620, tzinfo=tzutc()),\n",
       "   'updatedAt': datetime.datetime(2024, 12, 16, 14, 57, 7, 663620, tzinfo=tzutc()),\n",
       "   'inferenceProfileArn': 'arn:aws:bedrock:us-east-1:603420654815:application-inference-profile/1cgkyxn5rh8k',\n",
       "   'models': [{'modelArn': 'arn:aws:bedrock:us-east-1::foundation-model/anthropic.claude-3-sonnet-20240229-v1:0'}],\n",
       "   'inferenceProfileId': '1cgkyxn5rh8k',\n",
       "   'status': 'ACTIVE',\n",
       "   'type': 'APPLICATION'},\n",
       "  {'inferenceProfileName': 'dzd_60k0gby0fv0wh3',\n",
       "   'description': 'Created by Amazon SageMaker Unified Studio for domain dzd_60k0gby0fv0wh3 to provide access to Amazon Bedrock model in domain playgrounds',\n",
       "   'createdAt': datetime.datetime(2024, 12, 16, 14, 57, 25, 926210, tzinfo=tzutc()),\n",
       "   'updatedAt': datetime.datetime(2024, 12, 16, 14, 57, 25, 926210, tzinfo=tzutc()),\n",
       "   'inferenceProfileArn': 'arn:aws:bedrock:us-east-1:603420654815:application-inference-profile/784n29lstkes',\n",
       "   'models': [{'modelArn': 'arn:aws:bedrock:us-east-1::foundation-model/amazon.nova-lite-v1:0'},\n",
       "    {'modelArn': 'arn:aws:bedrock:us-west-2::foundation-model/amazon.nova-lite-v1:0'},\n",
       "    {'modelArn': 'arn:aws:bedrock:us-east-2::foundation-model/amazon.nova-lite-v1:0'}],\n",
       "   'inferenceProfileId': '784n29lstkes',\n",
       "   'status': 'ACTIVE',\n",
       "   'type': 'APPLICATION'},\n",
       "  {'inferenceProfileName': 'dzd_60k0gby0fv0wh3 dlf11q7cp18xt3',\n",
       "   'description': 'Created by Amazon SageMaker Unified Studio for domain dzd_60k0gby0fv0wh3 to provide access to Amazon Bedrock model in project dlf11q7cp18xt3',\n",
       "   'createdAt': datetime.datetime(2024, 12, 16, 15, 0, 43, 610986, tzinfo=tzutc()),\n",
       "   'updatedAt': datetime.datetime(2024, 12, 16, 15, 0, 43, 610986, tzinfo=tzutc()),\n",
       "   'inferenceProfileArn': 'arn:aws:bedrock:us-east-1:603420654815:application-inference-profile/hby680rbsltf',\n",
       "   'models': [{'modelArn': 'arn:aws:bedrock:us-east-1::foundation-model/amazon.nova-pro-v1:0'}],\n",
       "   'inferenceProfileId': 'hby680rbsltf',\n",
       "   'status': 'ACTIVE',\n",
       "   'type': 'APPLICATION'},\n",
       "  {'inferenceProfileName': 'claims_dept_claude_3_sonnet_profile',\n",
       "   'description': 'test',\n",
       "   'createdAt': datetime.datetime(2025, 1, 2, 10, 32, 35, 130633, tzinfo=tzutc()),\n",
       "   'updatedAt': datetime.datetime(2025, 1, 2, 10, 32, 35, 130633, tzinfo=tzutc()),\n",
       "   'inferenceProfileArn': 'arn:aws:bedrock:us-east-1:603420654815:application-inference-profile/rxo80d3nzyfj',\n",
       "   'models': [{'modelArn': 'arn:aws:bedrock:us-east-1::foundation-model/anthropic.claude-3-sonnet-20240229-v1:0'}],\n",
       "   'inferenceProfileId': 'rxo80d3nzyfj',\n",
       "   'status': 'ACTIVE',\n",
       "   'type': 'APPLICATION'},\n",
       "  {'inferenceProfileName': 'claims_dept_llama3_70b_profile',\n",
       "   'description': 'test',\n",
       "   'createdAt': datetime.datetime(2025, 1, 2, 10, 49, 29, 629580, tzinfo=tzutc()),\n",
       "   'updatedAt': datetime.datetime(2025, 1, 2, 10, 49, 29, 629580, tzinfo=tzutc()),\n",
       "   'inferenceProfileArn': 'arn:aws:bedrock:us-east-1:603420654815:application-inference-profile/cyvaw152ztvc',\n",
       "   'models': [{'modelArn': 'arn:aws:bedrock:us-east-1::foundation-model/meta.llama3-70b-instruct-v1:0'}],\n",
       "   'inferenceProfileId': 'cyvaw152ztvc',\n",
       "   'status': 'ACTIVE',\n",
       "   'type': 'APPLICATION'},\n",
       "  {'inferenceProfileName': 'ClaudeHaikuParts',\n",
       "   'description': 'Application profile for Claude Haiku 3.0',\n",
       "   'createdAt': datetime.datetime(2025, 1, 3, 7, 53, 40, 680797, tzinfo=tzutc()),\n",
       "   'updatedAt': datetime.datetime(2025, 1, 3, 7, 53, 40, 680797, tzinfo=tzutc()),\n",
       "   'inferenceProfileArn': 'arn:aws:bedrock:us-east-1:603420654815:application-inference-profile/28demuvgzoje',\n",
       "   'models': [{'modelArn': 'arn:aws:bedrock:us-east-1::foundation-model/anthropic.claude-3-haiku-20240307-v1:0'}],\n",
       "   'inferenceProfileId': '28demuvgzoje',\n",
       "   'status': 'ACTIVE',\n",
       "   'type': 'APPLICATION'},\n",
       "  {'inferenceProfileName': 'ClaudeSonnetSupplyCrossRegion',\n",
       "   'description': 'Application profile for Claude Haiku 3 with cross regional routing',\n",
       "   'createdAt': datetime.datetime(2025, 1, 3, 12, 41, 4, 794875, tzinfo=tzutc()),\n",
       "   'updatedAt': datetime.datetime(2025, 1, 3, 12, 41, 4, 794875, tzinfo=tzutc()),\n",
       "   'inferenceProfileArn': 'arn:aws:bedrock:us-east-1:603420654815:application-inference-profile/d0ntmb8piduq',\n",
       "   'models': [{'modelArn': 'arn:aws:bedrock:us-west-2::foundation-model/anthropic.claude-3-haiku-20240307-v1:0'}],\n",
       "   'inferenceProfileId': 'd0ntmb8piduq',\n",
       "   'status': 'ACTIVE',\n",
       "   'type': 'APPLICATION'},\n",
       "  {'inferenceProfileName': 'ClaudeClaudeSupplyCrossRegion',\n",
       "   'description': 'Application profile for Claude Haiku 3 with cross regional routing',\n",
       "   'createdAt': datetime.datetime(2025, 1, 3, 12, 41, 44, 659181, tzinfo=tzutc()),\n",
       "   'updatedAt': datetime.datetime(2025, 1, 3, 12, 41, 44, 659181, tzinfo=tzutc()),\n",
       "   'inferenceProfileArn': 'arn:aws:bedrock:us-east-1:603420654815:application-inference-profile/oto10wckmljl',\n",
       "   'models': [{'modelArn': 'arn:aws:bedrock:us-west-2::foundation-model/anthropic.claude-3-haiku-20240307-v1:0'}],\n",
       "   'inferenceProfileId': 'oto10wckmljl',\n",
       "   'status': 'ACTIVE',\n",
       "   'type': 'APPLICATION'},\n",
       "  {'inferenceProfileName': 'claims_dept_claude_3_sonnet_profile',\n",
       "   'description': 'test',\n",
       "   'createdAt': datetime.datetime(2025, 1, 3, 13, 15, 29, 409171, tzinfo=tzutc()),\n",
       "   'updatedAt': datetime.datetime(2025, 1, 3, 13, 15, 29, 409171, tzinfo=tzutc()),\n",
       "   'inferenceProfileArn': 'arn:aws:bedrock:us-east-1:603420654815:application-inference-profile/uh0cmwhwj7o8',\n",
       "   'models': [{'modelArn': 'arn:aws:bedrock:us-east-1::foundation-model/anthropic.claude-3-sonnet-20240229-v1:0'}],\n",
       "   'inferenceProfileId': 'uh0cmwhwj7o8',\n",
       "   'status': 'ACTIVE',\n",
       "   'type': 'APPLICATION'},\n",
       "  {'inferenceProfileName': 'claims_dept_llama3_70b_profile',\n",
       "   'description': 'test',\n",
       "   'createdAt': datetime.datetime(2025, 1, 3, 14, 17, 5, 19592, tzinfo=tzutc()),\n",
       "   'updatedAt': datetime.datetime(2025, 1, 3, 14, 17, 5, 19592, tzinfo=tzutc()),\n",
       "   'inferenceProfileArn': 'arn:aws:bedrock:us-east-1:603420654815:application-inference-profile/egho82xmp39x',\n",
       "   'models': [{'modelArn': 'arn:aws:bedrock:us-east-1::foundation-model/meta.llama3-70b-instruct-v1:0'}],\n",
       "   'inferenceProfileId': 'egho82xmp39x',\n",
       "   'status': 'ACTIVE',\n",
       "   'type': 'APPLICATION'},\n",
       "  {'inferenceProfileName': 'NovaProPart',\n",
       "   'description': 'Application profile for Nova Pro',\n",
       "   'createdAt': datetime.datetime(2025, 1, 3, 15, 7, 38, 100595, tzinfo=tzutc()),\n",
       "   'updatedAt': datetime.datetime(2025, 1, 3, 15, 7, 38, 100595, tzinfo=tzutc()),\n",
       "   'inferenceProfileArn': 'arn:aws:bedrock:us-east-1:603420654815:application-inference-profile/n13r87qqnwuj',\n",
       "   'models': [{'modelArn': 'arn:aws:bedrock:us-east-1::foundation-model/amazon.nova-pro-v1:0'}],\n",
       "   'inferenceProfileId': 'n13r87qqnwuj',\n",
       "   'status': 'ACTIVE',\n",
       "   'type': 'APPLICATION'},\n",
       "  {'inferenceProfileName': 'NovaProSupplyCrossRegion',\n",
       "   'description': 'Application profile for Nova Pro with cross regional routing',\n",
       "   'createdAt': datetime.datetime(2025, 1, 3, 16, 3, 5, 130280, tzinfo=tzutc()),\n",
       "   'updatedAt': datetime.datetime(2025, 1, 3, 16, 3, 5, 130280, tzinfo=tzutc()),\n",
       "   'inferenceProfileArn': 'arn:aws:bedrock:us-east-1:603420654815:application-inference-profile/4cyjqnrbo50n',\n",
       "   'models': [{'modelArn': 'arn:aws:bedrock:us-west-2::foundation-model/amazon.nova-pro-v1:0'}],\n",
       "   'inferenceProfileId': '4cyjqnrbo50n',\n",
       "   'status': 'ACTIVE',\n",
       "   'type': 'APPLICATION'},\n",
       "  {'inferenceProfileName': 'NovaProSupplyCrossRegion',\n",
       "   'description': 'Application profile for Nova Pro with cross regional routing',\n",
       "   'createdAt': datetime.datetime(2025, 1, 3, 16, 3, 21, 235777, tzinfo=tzutc()),\n",
       "   'updatedAt': datetime.datetime(2025, 1, 3, 16, 3, 21, 235777, tzinfo=tzutc()),\n",
       "   'inferenceProfileArn': 'arn:aws:bedrock:us-east-1:603420654815:application-inference-profile/0k0ax7h2e28i',\n",
       "   'models': [{'modelArn': 'arn:aws:bedrock:us-west-2::foundation-model/amazon.nova-pro-v1:0'}],\n",
       "   'inferenceProfileId': '0k0ax7h2e28i',\n",
       "   'status': 'ACTIVE',\n",
       "   'type': 'APPLICATION'}]}"
      ]
     },
     "execution_count": 4,
     "metadata": {},
     "output_type": "execute_result"
    }
   ],
   "source": [
    "bedrock.list_inference_profiles(typeEquals='APPLICATION')"
   ]
  },
  {
   "cell_type": "markdown",
   "id": "8b933439-83ce-41b5-881d-afcda3cc03e5",
   "metadata": {},
   "source": [
    "### List cross region inference profiles"
   ]
  },
  {
   "cell_type": "code",
   "execution_count": 5,
   "id": "e88f82fa-0a07-42a0-b1f7-5aa550b6b578",
   "metadata": {},
   "outputs": [
    {
     "data": {
      "text/plain": [
       "{'ResponseMetadata': {'RequestId': 'ed755479-9e3e-4df2-8d5f-16b5d6bddcc5',\n",
       "  'HTTPStatusCode': 200,\n",
       "  'HTTPHeaders': {'date': 'Mon, 06 Jan 2025 11:40:50 GMT',\n",
       "   'content-type': 'application/json',\n",
       "   'content-length': '10883',\n",
       "   'connection': 'keep-alive',\n",
       "   'x-amzn-requestid': 'ed755479-9e3e-4df2-8d5f-16b5d6bddcc5'},\n",
       "  'RetryAttempts': 0},\n",
       " 'inferenceProfileSummaries': [{'inferenceProfileName': 'US Anthropic Claude 3 Sonnet',\n",
       "   'description': 'Routes requests to Anthropic Claude 3 Sonnet in us-east-1 and us-west-2.',\n",
       "   'createdAt': datetime.datetime(2024, 8, 26, 0, 0, tzinfo=tzutc()),\n",
       "   'updatedAt': datetime.datetime(2024, 8, 26, 0, 0, tzinfo=tzutc()),\n",
       "   'inferenceProfileArn': 'arn:aws:bedrock:us-east-1:603420654815:inference-profile/us.anthropic.claude-3-sonnet-20240229-v1:0',\n",
       "   'models': [{'modelArn': 'arn:aws:bedrock:us-east-1::foundation-model/anthropic.claude-3-sonnet-20240229-v1:0'},\n",
       "    {'modelArn': 'arn:aws:bedrock:us-west-2::foundation-model/anthropic.claude-3-sonnet-20240229-v1:0'}],\n",
       "   'inferenceProfileId': 'us.anthropic.claude-3-sonnet-20240229-v1:0',\n",
       "   'status': 'ACTIVE',\n",
       "   'type': 'SYSTEM_DEFINED'},\n",
       "  {'inferenceProfileName': 'US Anthropic Claude 3 Opus',\n",
       "   'description': 'Routes requests to Anthropic Cluade 3 Opus in us-east-1 and us-west-2.',\n",
       "   'createdAt': datetime.datetime(2024, 8, 26, 0, 0, tzinfo=tzutc()),\n",
       "   'updatedAt': datetime.datetime(2024, 8, 26, 0, 0, tzinfo=tzutc()),\n",
       "   'inferenceProfileArn': 'arn:aws:bedrock:us-east-1:603420654815:inference-profile/us.anthropic.claude-3-opus-20240229-v1:0',\n",
       "   'models': [{'modelArn': 'arn:aws:bedrock:us-east-1::foundation-model/anthropic.claude-3-opus-20240229-v1:0'},\n",
       "    {'modelArn': 'arn:aws:bedrock:us-west-2::foundation-model/anthropic.claude-3-opus-20240229-v1:0'}],\n",
       "   'inferenceProfileId': 'us.anthropic.claude-3-opus-20240229-v1:0',\n",
       "   'status': 'ACTIVE',\n",
       "   'type': 'SYSTEM_DEFINED'},\n",
       "  {'inferenceProfileName': 'US Anthropic Claude 3 Haiku',\n",
       "   'description': 'Routes requests to Anthropic Claude 3 Haiku in us-east-1 and us-west-2.',\n",
       "   'createdAt': datetime.datetime(2024, 8, 26, 0, 0, tzinfo=tzutc()),\n",
       "   'updatedAt': datetime.datetime(2024, 8, 26, 0, 0, tzinfo=tzutc()),\n",
       "   'inferenceProfileArn': 'arn:aws:bedrock:us-east-1:603420654815:inference-profile/us.anthropic.claude-3-haiku-20240307-v1:0',\n",
       "   'models': [{'modelArn': 'arn:aws:bedrock:us-east-1::foundation-model/anthropic.claude-3-haiku-20240307-v1:0'},\n",
       "    {'modelArn': 'arn:aws:bedrock:us-west-2::foundation-model/anthropic.claude-3-haiku-20240307-v1:0'}],\n",
       "   'inferenceProfileId': 'us.anthropic.claude-3-haiku-20240307-v1:0',\n",
       "   'status': 'ACTIVE',\n",
       "   'type': 'SYSTEM_DEFINED'},\n",
       "  {'inferenceProfileName': 'US Meta Llama 3.2 11B Instruct',\n",
       "   'description': 'Routes requests to Meta Llama 3.2 11B Instruct in us-east-1 and us-west-2.',\n",
       "   'createdAt': datetime.datetime(2024, 9, 25, 0, 0, tzinfo=tzutc()),\n",
       "   'updatedAt': datetime.datetime(2024, 9, 25, 0, 0, tzinfo=tzutc()),\n",
       "   'inferenceProfileArn': 'arn:aws:bedrock:us-east-1:603420654815:inference-profile/us.meta.llama3-2-11b-instruct-v1:0',\n",
       "   'models': [{'modelArn': 'arn:aws:bedrock:us-east-1::foundation-model/meta.llama3-2-11b-instruct-v1:0'},\n",
       "    {'modelArn': 'arn:aws:bedrock:us-west-2::foundation-model/meta.llama3-2-11b-instruct-v1:0'}],\n",
       "   'inferenceProfileId': 'us.meta.llama3-2-11b-instruct-v1:0',\n",
       "   'status': 'ACTIVE',\n",
       "   'type': 'SYSTEM_DEFINED'},\n",
       "  {'inferenceProfileName': 'US Meta Llama 3.2 3B Instruct',\n",
       "   'description': 'Routes requests to Meta Llama 3.2 3B Instruct in us-east-1 and us-west-2.',\n",
       "   'createdAt': datetime.datetime(2024, 9, 25, 0, 0, tzinfo=tzutc()),\n",
       "   'updatedAt': datetime.datetime(2024, 9, 25, 0, 0, tzinfo=tzutc()),\n",
       "   'inferenceProfileArn': 'arn:aws:bedrock:us-east-1:603420654815:inference-profile/us.meta.llama3-2-3b-instruct-v1:0',\n",
       "   'models': [{'modelArn': 'arn:aws:bedrock:us-east-1::foundation-model/meta.llama3-2-3b-instruct-v1:0'},\n",
       "    {'modelArn': 'arn:aws:bedrock:us-west-2::foundation-model/meta.llama3-2-3b-instruct-v1:0'}],\n",
       "   'inferenceProfileId': 'us.meta.llama3-2-3b-instruct-v1:0',\n",
       "   'status': 'ACTIVE',\n",
       "   'type': 'SYSTEM_DEFINED'},\n",
       "  {'inferenceProfileName': 'US Meta Llama 3.2 90B Instruct',\n",
       "   'description': 'Routes requests to Meta Llama 3.2 90B Instruct in us-east-1 and us-west-2.',\n",
       "   'createdAt': datetime.datetime(2024, 9, 25, 0, 0, tzinfo=tzutc()),\n",
       "   'updatedAt': datetime.datetime(2024, 9, 25, 0, 0, tzinfo=tzutc()),\n",
       "   'inferenceProfileArn': 'arn:aws:bedrock:us-east-1:603420654815:inference-profile/us.meta.llama3-2-90b-instruct-v1:0',\n",
       "   'models': [{'modelArn': 'arn:aws:bedrock:us-east-1::foundation-model/meta.llama3-2-90b-instruct-v1:0'},\n",
       "    {'modelArn': 'arn:aws:bedrock:us-west-2::foundation-model/meta.llama3-2-90b-instruct-v1:0'}],\n",
       "   'inferenceProfileId': 'us.meta.llama3-2-90b-instruct-v1:0',\n",
       "   'status': 'ACTIVE',\n",
       "   'type': 'SYSTEM_DEFINED'},\n",
       "  {'inferenceProfileName': 'US Meta Llama 3.2 1B Instruct',\n",
       "   'description': 'Routes requests to Meta Llama 3.2 1B Instruct in us-east-1 and us-west-2.',\n",
       "   'createdAt': datetime.datetime(2024, 9, 25, 0, 0, tzinfo=tzutc()),\n",
       "   'updatedAt': datetime.datetime(2024, 9, 25, 0, 0, tzinfo=tzutc()),\n",
       "   'inferenceProfileArn': 'arn:aws:bedrock:us-east-1:603420654815:inference-profile/us.meta.llama3-2-1b-instruct-v1:0',\n",
       "   'models': [{'modelArn': 'arn:aws:bedrock:us-east-1::foundation-model/meta.llama3-2-1b-instruct-v1:0'},\n",
       "    {'modelArn': 'arn:aws:bedrock:us-west-2::foundation-model/meta.llama3-2-1b-instruct-v1:0'}],\n",
       "   'inferenceProfileId': 'us.meta.llama3-2-1b-instruct-v1:0',\n",
       "   'status': 'ACTIVE',\n",
       "   'type': 'SYSTEM_DEFINED'},\n",
       "  {'inferenceProfileName': 'US Anthropic Claude 3.5 Sonnet',\n",
       "   'description': 'Routes requests to Anthropic Claude 3.5 Sonnet in us-east-1 and us-west-2.',\n",
       "   'createdAt': datetime.datetime(2024, 8, 26, 0, 0, tzinfo=tzutc()),\n",
       "   'updatedAt': datetime.datetime(2024, 9, 26, 14, 9, tzinfo=tzutc()),\n",
       "   'inferenceProfileArn': 'arn:aws:bedrock:us-east-1:603420654815:inference-profile/us.anthropic.claude-3-5-sonnet-20240620-v1:0',\n",
       "   'models': [{'modelArn': 'arn:aws:bedrock:us-east-1::foundation-model/anthropic.claude-3-5-sonnet-20240620-v1:0'},\n",
       "    {'modelArn': 'arn:aws:bedrock:us-west-2::foundation-model/anthropic.claude-3-5-sonnet-20240620-v1:0'}],\n",
       "   'inferenceProfileId': 'us.anthropic.claude-3-5-sonnet-20240620-v1:0',\n",
       "   'status': 'ACTIVE',\n",
       "   'type': 'SYSTEM_DEFINED'},\n",
       "  {'inferenceProfileName': 'US Anthropic Claude 3.5 Sonnet v2',\n",
       "   'description': 'Routes requests to Anthropic Claude 3.5 Sonnet v2 in us-east-1, us-east-2 and us-west-2.',\n",
       "   'createdAt': datetime.datetime(2024, 10, 22, 0, 0, tzinfo=tzutc()),\n",
       "   'updatedAt': datetime.datetime(2024, 10, 28, 21, 29, 55, 709743, tzinfo=tzutc()),\n",
       "   'inferenceProfileArn': 'arn:aws:bedrock:us-east-1:603420654815:inference-profile/us.anthropic.claude-3-5-sonnet-20241022-v2:0',\n",
       "   'models': [{'modelArn': 'arn:aws:bedrock:us-east-1::foundation-model/anthropic.claude-3-5-sonnet-20241022-v2:0'},\n",
       "    {'modelArn': 'arn:aws:bedrock:us-east-2::foundation-model/anthropic.claude-3-5-sonnet-20241022-v2:0'},\n",
       "    {'modelArn': 'arn:aws:bedrock:us-west-2::foundation-model/anthropic.claude-3-5-sonnet-20241022-v2:0'}],\n",
       "   'inferenceProfileId': 'us.anthropic.claude-3-5-sonnet-20241022-v2:0',\n",
       "   'status': 'ACTIVE',\n",
       "   'type': 'SYSTEM_DEFINED'},\n",
       "  {'inferenceProfileName': 'US Anthropic Claude 3.5 Haiku',\n",
       "   'description': 'Routes requests to US Anthropic Claude 3.5 Haiku in us-east-1, us-east-2 and us-west-2.',\n",
       "   'createdAt': datetime.datetime(2024, 11, 4, 0, 0, tzinfo=tzutc()),\n",
       "   'updatedAt': datetime.datetime(2024, 11, 4, 0, 0, tzinfo=tzutc()),\n",
       "   'inferenceProfileArn': 'arn:aws:bedrock:us-east-1:603420654815:inference-profile/us.anthropic.claude-3-5-haiku-20241022-v1:0',\n",
       "   'models': [{'modelArn': 'arn:aws:bedrock:us-east-1::foundation-model/anthropic.claude-3-5-haiku-20241022-v1:0'},\n",
       "    {'modelArn': 'arn:aws:bedrock:us-east-2::foundation-model/anthropic.claude-3-5-haiku-20241022-v1:0'},\n",
       "    {'modelArn': 'arn:aws:bedrock:us-west-2::foundation-model/anthropic.claude-3-5-haiku-20241022-v1:0'}],\n",
       "   'inferenceProfileId': 'us.anthropic.claude-3-5-haiku-20241022-v1:0',\n",
       "   'status': 'ACTIVE',\n",
       "   'type': 'SYSTEM_DEFINED'},\n",
       "  {'inferenceProfileName': 'US Meta Llama 3.1 8B Instruct',\n",
       "   'description': 'Routes requests to Meta Llama 3.1 8B Instruct in us-east-1, us-east-2 and us-west-2.',\n",
       "   'createdAt': datetime.datetime(2024, 11, 1, 0, 0, tzinfo=tzutc()),\n",
       "   'updatedAt': datetime.datetime(2024, 11, 4, 18, 4, 3, 991725, tzinfo=tzutc()),\n",
       "   'inferenceProfileArn': 'arn:aws:bedrock:us-east-1:603420654815:inference-profile/us.meta.llama3-1-8b-instruct-v1:0',\n",
       "   'models': [{'modelArn': 'arn:aws:bedrock:us-east-1::foundation-model/meta.llama3-1-8b-instruct-v1:0'},\n",
       "    {'modelArn': 'arn:aws:bedrock:us-east-2::foundation-model/meta.llama3-1-8b-instruct-v1:0'},\n",
       "    {'modelArn': 'arn:aws:bedrock:us-west-2::foundation-model/meta.llama3-1-8b-instruct-v1:0'}],\n",
       "   'inferenceProfileId': 'us.meta.llama3-1-8b-instruct-v1:0',\n",
       "   'status': 'ACTIVE',\n",
       "   'type': 'SYSTEM_DEFINED'},\n",
       "  {'inferenceProfileName': 'US Meta Llama 3.1 70B Instruct',\n",
       "   'description': 'Routes requests to Meta Llama 3.1 70B Instruct in us-east-1, us-east-2 and us-west-2.',\n",
       "   'createdAt': datetime.datetime(2024, 11, 1, 0, 0, tzinfo=tzutc()),\n",
       "   'updatedAt': datetime.datetime(2024, 11, 4, 18, 4, 24, 303028, tzinfo=tzutc()),\n",
       "   'inferenceProfileArn': 'arn:aws:bedrock:us-east-1:603420654815:inference-profile/us.meta.llama3-1-70b-instruct-v1:0',\n",
       "   'models': [{'modelArn': 'arn:aws:bedrock:us-east-1::foundation-model/meta.llama3-1-70b-instruct-v1:0'},\n",
       "    {'modelArn': 'arn:aws:bedrock:us-east-2::foundation-model/meta.llama3-1-70b-instruct-v1:0'},\n",
       "    {'modelArn': 'arn:aws:bedrock:us-west-2::foundation-model/meta.llama3-1-70b-instruct-v1:0'}],\n",
       "   'inferenceProfileId': 'us.meta.llama3-1-70b-instruct-v1:0',\n",
       "   'status': 'ACTIVE',\n",
       "   'type': 'SYSTEM_DEFINED'},\n",
       "  {'inferenceProfileName': 'US Nova Lite',\n",
       "   'description': 'Routes requests to Nova Lite in us-east-1, us-west-2 and us-east-2.',\n",
       "   'createdAt': datetime.datetime(2024, 11, 29, 13, 23, tzinfo=tzutc()),\n",
       "   'updatedAt': datetime.datetime(2024, 11, 29, 13, 23, tzinfo=tzutc()),\n",
       "   'inferenceProfileArn': 'arn:aws:bedrock:us-east-1:603420654815:inference-profile/us.amazon.nova-lite-v1:0',\n",
       "   'models': [{'modelArn': 'arn:aws:bedrock:us-east-1::foundation-model/amazon.nova-lite-v1:0'},\n",
       "    {'modelArn': 'arn:aws:bedrock:us-west-2::foundation-model/amazon.nova-lite-v1:0'},\n",
       "    {'modelArn': 'arn:aws:bedrock:us-east-2::foundation-model/amazon.nova-lite-v1:0'}],\n",
       "   'inferenceProfileId': 'us.amazon.nova-lite-v1:0',\n",
       "   'status': 'ACTIVE',\n",
       "   'type': 'SYSTEM_DEFINED'},\n",
       "  {'inferenceProfileName': 'US Nova Pro',\n",
       "   'description': 'Routes requests to Nova Pro in us-east-1, us-west-2 and us-east-2.',\n",
       "   'createdAt': datetime.datetime(2024, 11, 29, 13, 23, tzinfo=tzutc()),\n",
       "   'updatedAt': datetime.datetime(2024, 11, 29, 13, 23, tzinfo=tzutc()),\n",
       "   'inferenceProfileArn': 'arn:aws:bedrock:us-east-1:603420654815:inference-profile/us.amazon.nova-pro-v1:0',\n",
       "   'models': [{'modelArn': 'arn:aws:bedrock:us-east-1::foundation-model/amazon.nova-pro-v1:0'},\n",
       "    {'modelArn': 'arn:aws:bedrock:us-west-2::foundation-model/amazon.nova-pro-v1:0'},\n",
       "    {'modelArn': 'arn:aws:bedrock:us-east-2::foundation-model/amazon.nova-pro-v1:0'}],\n",
       "   'inferenceProfileId': 'us.amazon.nova-pro-v1:0',\n",
       "   'status': 'ACTIVE',\n",
       "   'type': 'SYSTEM_DEFINED'},\n",
       "  {'inferenceProfileName': 'US Nova Micro',\n",
       "   'description': 'Routes requests to Nova Micro in us-east-1, us-west-2 and us-east-2.',\n",
       "   'createdAt': datetime.datetime(2024, 11, 29, 13, 23, tzinfo=tzutc()),\n",
       "   'updatedAt': datetime.datetime(2024, 11, 29, 13, 23, tzinfo=tzutc()),\n",
       "   'inferenceProfileArn': 'arn:aws:bedrock:us-east-1:603420654815:inference-profile/us.amazon.nova-micro-v1:0',\n",
       "   'models': [{'modelArn': 'arn:aws:bedrock:us-east-1::foundation-model/amazon.nova-micro-v1:0'},\n",
       "    {'modelArn': 'arn:aws:bedrock:us-west-2::foundation-model/amazon.nova-micro-v1:0'},\n",
       "    {'modelArn': 'arn:aws:bedrock:us-east-2::foundation-model/amazon.nova-micro-v1:0'}],\n",
       "   'inferenceProfileId': 'us.amazon.nova-micro-v1:0',\n",
       "   'status': 'ACTIVE',\n",
       "   'type': 'SYSTEM_DEFINED'},\n",
       "  {'inferenceProfileName': 'US Meta Llama 3.3 70B Instruct',\n",
       "   'description': 'Routes requests to Meta Llama 3.3 70B Instruct in us-east-1, us-east-2 and us-west-2.',\n",
       "   'createdAt': datetime.datetime(2024, 12, 19, 1, 30, tzinfo=tzutc()),\n",
       "   'updatedAt': datetime.datetime(2024, 12, 19, 22, 6, 30, 753678, tzinfo=tzutc()),\n",
       "   'inferenceProfileArn': 'arn:aws:bedrock:us-east-1:603420654815:inference-profile/us.meta.llama3-3-70b-instruct-v1:0',\n",
       "   'models': [{'modelArn': 'arn:aws:bedrock:us-east-1::foundation-model/meta.llama3-3-70b-instruct-v1:0'},\n",
       "    {'modelArn': 'arn:aws:bedrock:us-east-2::foundation-model/meta.llama3-3-70b-instruct-v1:0'},\n",
       "    {'modelArn': 'arn:aws:bedrock:us-west-2::foundation-model/meta.llama3-3-70b-instruct-v1:0'}],\n",
       "   'inferenceProfileId': 'us.meta.llama3-3-70b-instruct-v1:0',\n",
       "   'status': 'ACTIVE',\n",
       "   'type': 'SYSTEM_DEFINED'}]}"
      ]
     },
     "execution_count": 5,
     "metadata": {},
     "output_type": "execute_result"
    }
   ],
   "source": [
    "bedrock.list_inference_profiles(typeEquals='SYSTEM_DEFINED')"
   ]
  },
  {
   "cell_type": "code",
   "execution_count": 6,
   "id": "45c46b7a-b04a-4c8c-9fb6-fb2a425ce0f2",
   "metadata": {},
   "outputs": [
    {
     "data": {
      "text/plain": [
       "[{'modelArn': 'arn:aws:bedrock:us-east-1::foundation-model/amazon.nova-pro-v1:0:300k',\n",
       "  'modelName': 'Nova Pro',\n",
       "  'modelId': 'amazon.nova-pro-v1:0:300k'},\n",
       " {'modelArn': 'arn:aws:bedrock:us-east-1::foundation-model/amazon.nova-pro-v1:0',\n",
       "  'modelName': 'Nova Pro',\n",
       "  'modelId': 'amazon.nova-pro-v1:0'},\n",
       " {'modelArn': 'arn:aws:bedrock:us-east-1::foundation-model/amazon.nova-lite-v1:0:300k',\n",
       "  'modelName': 'Nova Lite',\n",
       "  'modelId': 'amazon.nova-lite-v1:0:300k'},\n",
       " {'modelArn': 'arn:aws:bedrock:us-east-1::foundation-model/amazon.nova-lite-v1:0',\n",
       "  'modelName': 'Nova Lite',\n",
       "  'modelId': 'amazon.nova-lite-v1:0'},\n",
       " {'modelArn': 'arn:aws:bedrock:us-east-1::foundation-model/amazon.nova-canvas-v1:0',\n",
       "  'modelName': 'Nova Canvas',\n",
       "  'modelId': 'amazon.nova-canvas-v1:0'},\n",
       " {'modelArn': 'arn:aws:bedrock:us-east-1::foundation-model/amazon.nova-reel-v1:0',\n",
       "  'modelName': 'Nova Reel',\n",
       "  'modelId': 'amazon.nova-reel-v1:0'},\n",
       " {'modelArn': 'arn:aws:bedrock:us-east-1::foundation-model/amazon.nova-micro-v1:0:128k',\n",
       "  'modelName': 'Nova Micro',\n",
       "  'modelId': 'amazon.nova-micro-v1:0:128k'},\n",
       " {'modelArn': 'arn:aws:bedrock:us-east-1::foundation-model/amazon.nova-micro-v1:0',\n",
       "  'modelName': 'Nova Micro',\n",
       "  'modelId': 'amazon.nova-micro-v1:0'}]"
      ]
     },
     "execution_count": 6,
     "metadata": {},
     "output_type": "execute_result"
    }
   ],
   "source": [
    "models = [{'modelArn': fm['modelArn'], 'modelName':fm['modelName'], 'modelId': fm['modelId']} for fm in bedrock.list_foundation_models()['modelSummaries'] if fm['modelName'].startswith('Nova') and fm['modelLifecycle']['status']== 'ACTIVE']\n",
    "models"
   ]
  },
  {
   "cell_type": "markdown",
   "id": "2e5a8829-203c-4392-98ec-c3e92f7a26af",
   "metadata": {},
   "source": [
    "## Setup single Region application inference profile\n",
    "\n",
    "단일 리전에 대한 애플리케이션 추론 프로필을 생성하려면 기반 모델의 ARN을 지정해야 합니다. 해당 리전의 모델에 대한 요청의 사용량과 비용이 추적됩니다. 요청 생성 시 다음 매개변수를 제공해야 합니다:\n",
    "\n",
    "* inferenceProfileName - 추론 프로필의 이름\n",
    "* modelSource - 단일 리전의 경우 copyFrom 속성에 기반 모델의 ARN을 지정\n",
    "* description - 추론 프로필에 대한 설명 (선택사항)\n",
    "* tags - 추론 프로필에 태그 첨부. AWS 비용 할당 태그를 사용하여 비용 추적 가능. 프로젝트 ID, 부서 ID 또는 원하는 방식으로 비용 추적 가능"
   ]
  },
  {
   "cell_type": "code",
   "execution_count": 7,
   "id": "20ca08cf-bed1-4b4a-a19d-54a42d220b00",
   "metadata": {},
   "outputs": [
    {
     "data": {
      "text/plain": [
       "('amazon.nova-pro-v1:0',\n",
       " 'arn:aws:bedrock:us-east-1::foundation-model/amazon.nova-pro-v1:0')"
      ]
     },
     "execution_count": 7,
     "metadata": {},
     "output_type": "execute_result"
    }
   ],
   "source": [
    "#Amazon Nova Pro\n",
    "#Model ARN: arn:aws:bedrock:us-east-1::foundation-model/amazon.nova-pro-v1:0\n",
    "#Model ID: amazon.nova-pro-v1:0\n",
    "\n",
    "modelId = 'amazon.nova-pro-v1:0'\n",
    "modelARN = [m['modelArn'] for m in models if m['modelId'] == modelId][0]\n",
    "modelId, modelARN "
   ]
  },
  {
   "cell_type": "code",
   "execution_count": 8,
   "id": "541c75a6-9820-479d-a6ed-e089fd25eec5",
   "metadata": {},
   "outputs": [],
   "source": [
    "inf_profile_response = bedrock.create_inference_profile(\n",
    "    inferenceProfileName='NovaProPart',\n",
    "    description='Application profile for Nova Pro',\n",
    "    modelSource={\n",
    "        'copyFrom': modelARN\n",
    "    },\n",
    "    tags=[\n",
    "        {\n",
    "            'key': 'projectId',\n",
    "            'value': 'parts2025'\n",
    "        },\n",
    "    ]\n",
    ")"
   ]
  },
  {
   "cell_type": "code",
   "execution_count": 9,
   "id": "ea2afab6-3a7d-4ff9-b46a-43d8a53ff8e2",
   "metadata": {},
   "outputs": [
    {
     "data": {
      "text/plain": [
       "'arn:aws:bedrock:us-east-1:603420654815:application-inference-profile/w19uuvvsn8b2'"
      ]
     },
     "execution_count": 9,
     "metadata": {},
     "output_type": "execute_result"
    }
   ],
   "source": [
    "inf_profile_arn = inf_profile_response['inferenceProfileArn']\n",
    "inf_profile_arn"
   ]
  },
  {
   "cell_type": "code",
   "execution_count": 10,
   "id": "51e61e33-7522-417e-8731-29e7990648e1",
   "metadata": {},
   "outputs": [
    {
     "data": {
      "text/plain": [
       "{'ResponseMetadata': {'RequestId': '32033ee1-aa21-4c18-b3bf-d578a0030699',\n",
       "  'HTTPStatusCode': 200,\n",
       "  'HTTPHeaders': {'date': 'Mon, 06 Jan 2025 11:41:32 GMT',\n",
       "   'content-type': 'application/json',\n",
       "   'content-length': '449',\n",
       "   'connection': 'keep-alive',\n",
       "   'x-amzn-requestid': '32033ee1-aa21-4c18-b3bf-d578a0030699'},\n",
       "  'RetryAttempts': 0},\n",
       " 'inferenceProfileName': 'NovaProPart',\n",
       " 'description': 'Application profile for Nova Pro',\n",
       " 'createdAt': datetime.datetime(2025, 1, 6, 11, 41, 20, 242364, tzinfo=tzutc()),\n",
       " 'updatedAt': datetime.datetime(2025, 1, 6, 11, 41, 20, 242364, tzinfo=tzutc()),\n",
       " 'inferenceProfileArn': 'arn:aws:bedrock:us-east-1:603420654815:application-inference-profile/w19uuvvsn8b2',\n",
       " 'models': [{'modelArn': 'arn:aws:bedrock:us-east-1::foundation-model/amazon.nova-pro-v1:0'}],\n",
       " 'inferenceProfileId': 'w19uuvvsn8b2',\n",
       " 'status': 'ACTIVE',\n",
       " 'type': 'APPLICATION'}"
      ]
     },
     "execution_count": 10,
     "metadata": {},
     "output_type": "execute_result"
    }
   ],
   "source": [
    "bedrock.get_inference_profile(inferenceProfileIdentifier=inf_profile_arn)"
   ]
  },
  {
   "cell_type": "code",
   "execution_count": 11,
   "id": "21ef6641-a1e9-4753-bbeb-ac73a45b4d58",
   "metadata": {},
   "outputs": [
    {
     "data": {
      "text/plain": [
       "'w19uuvvsn8b2'"
      ]
     },
     "execution_count": 11,
     "metadata": {},
     "output_type": "execute_result"
    }
   ],
   "source": [
    "inf_profile_id = bedrock.get_inference_profile(inferenceProfileIdentifier=inf_profile_arn)['inferenceProfileId']\n",
    "inf_profile_id"
   ]
  },
  {
   "cell_type": "markdown",
   "id": "3ba274dd-5f08-4b0a-a241-4f8b7f5a0eb6",
   "metadata": {},
   "source": [
    "### Example usage with Converse API\n",
    "\n",
    "추론 프로파일을 사용하려면 modelId 필드에 추론 프로파일의 ARN을 지정합니다. "
   ]
  },
  {
   "cell_type": "code",
   "execution_count": 36,
   "id": "fde3c71a-2904-45fb-8e5d-c3cceb26561b",
   "metadata": {},
   "outputs": [
    {
     "name": "stdout",
     "output_type": "stream",
     "text": [
      "Response time: 12 second(s)\n",
      "Using Application Inf Profile::Response output: [{'text': '비용 효율적인 애플리케이션을 구성하기 위해 Amazon S3와 Amazon EFS 중 어떤 것을 사용할지는 주로 애플리케이션의 요구 사항에 따라 결정됩니다. 다음은 각각의 서비스에 대한 주요 특징과 비용 고려 사항입니다.\\n\\n### Amazon S3\\n- **용도**: 객체 저장소로, 대용량 데이터의 저장 및 검색에 적합합니다.\\n- **특징**:\\n  - 높은 내구성과 가용성\\n  - 다양한 스토리지 클래스 지원 (Standard, Infrequent Access, Glacier 등)\\n  - 간단한 데이터 관리 및 액세스 제어\\n- **비용**:\\n  - 저장 용량, 데이터 전송, 요청 수 등에 따라 비용 발생\\n  - Infrequent Access 및 Glacier와 같은 저렴한 스토리지 클래스를 사용하면 비용 절감 가능\\n\\n### Amazon EFS\\n- **용도**: 분산 파일 시스템으로, 여러 Amazon EC2 인스턴스에서 공유 파일 시스템을 필요로 할 때 사용합니다.\\n- **특징**:\\n  - 네트워크 파일 시스템 (NFS) 프로토콜 지원\\n  - 동적으로 확장 가능\\n  - 실시간 공유 및 동기화\\n- **비용**:\\n  - 저장 용량, 스루풋, 데이터 전송 등에 따라 비용 발생\\n  - 주로 빈번한 액세스가 필요한 경우에 비용이 더 높을 수 있음\\n\\n### 결론\\n- **Amazon S3**: 주로 데이터가 빈번하게 액세스되지 않거나, 대용량 저장이 필요한 경우에 비용 효율적입니다. 특히, 데이터의 액세스 패턴에 따라 적절한 스토리지 클래스를 선택하면 더 큰 비용 절감 효과를 볼 수 있습니다.\\n- **Amazon EFS**: 여러 EC2 인스턴스에서 공유되는 파일 시스템이 필요하고, 빈번한 액세스가 필요한 경우에 적합합니다. 하지만, 비용 측면에서는 S3에 비해 더 높을 수 있습니다.\\n\\n따라서, 문서의 액세스 패턴, 저장 용량, 그리고 공유 및 동기화 요구 사항에 따라 적절한 서비스를 선택하는 것이 좋습니다.'}]\n"
     ]
    }
   ],
   "source": [
    "from time import time\n",
    "from pprint import pprint\n",
    "system_prompt = \"You are an expert on AWS services and always provide correct and concise answers.\"\n",
    "input_message = \"비용 효율적인 애플리케이션을 구성하기 위해서는 Amazon S3 또는 EFS에 문서를 저장하는게 좋을까요??\"\n",
    "start = time()\n",
    "response = br.converse(\n",
    "    modelId=inf_profile_arn,\n",
    "    system=[{\"text\": system_prompt}],\n",
    "    messages=[{\n",
    "        \"role\": \"user\",\n",
    "        \"content\": [{\"text\": input_message}]\n",
    "    }]\n",
    ")\n",
    "end = time()\n",
    "\n",
    "print(f\"Response time: {int(end-start)} second(s)\")\n",
    "print(f\"Using Application Inf Profile::Response output: {response['output']['message']['content']}\")\n"
   ]
  },
  {
   "cell_type": "code",
   "execution_count": 17,
   "id": "1d27e03a",
   "metadata": {},
   "outputs": [
    {
     "name": "stdout",
     "output_type": "stream",
     "text": [
      "비용 효율적인 애플리케이션을 구성하기 위해 Amazon S3와 Amazon EFS 중 하나를 선택할 때는 용도와 요구 사항에 따라 다릅니다. 각각의 특성을 고려하여 결정해야 합니다.\n",
      "\n",
      "### Amazon S3\n",
      "- 용도: 객체 저장 (파일, 이미지, 비디오 등)\n",
      "- 비용 효율성: \n",
      "  - 다양한 스토리지 클래스 (S3 Standard, S3 Intelligent-Tiering, S3 Standard-Infrequent Access, S3 One Zone-Infrequent Access, S3 Glacier, S3 Glacier Deep Archive)를 통해 비용 최적화 가능.\n",
      "  - 데이터 액세스 빈도에 따라 적절한 스토리지 클래스 선택 가능.\n",
      "- 장점:\n",
      "  - 높은 내구성과 가용성.\n",
      "  - 스케일아웃이 쉽고, 관리 부담이 적음.\n",
      "  - 버킷 정책과 라이프사이클 관리를 통한 자동화 가능.\n",
      "\n",
      "### Amazon EFS\n",
      "- 용도: 분산 파일 시스템 (애플리케이션의 공유 파일 시스템)\n",
      "- 비용 효율성:\n",
      "  - 실시간 액세스가 필요한 경우에 적합하지만, 비용은 저장된 데이터 양과 처리량에 따라 달라짐.\n",
      "  - 장기 보관에 비해 운영 중인 파일 시스템에 더 적합.\n",
      "- 장점:\n",
      "  - 여러 EC2 인스턴스에서 공유 파일 시스템을 사용할 수 있음.\n",
      "  - 실시간 액세스와 낮은 레이턴시 제공.\n",
      "  - 관리가 간편함.\n",
      "\n",
      "### 결론\n",
      "- 문서 저장이 주 목적이고, 장기 보관이나 빈번한 액세스가 필요하지 않다면 Amazon S3가 더 비용 효율적입니다.\n",
      "- 실시간 액세스가 필요하고, 여러 인스턴스에서 공유되는 파일 시스템이 필요하다면 Amazon EFS를 선택하는 것이 좋습니다.\n",
      "\n",
      "각각의 요구 사항에 맞게 서비스를 선택하는 것이 중요합니다.\n"
     ]
    }
   ],
   "source": [
    "import re\n",
    "\n",
    "text = response['output']['message']['content'][0]['text']\n",
    "clean_text = re.sub(r'\\*\\*(.*?)\\*\\*', r'\\1', text)\n",
    "formatted_text = clean_text.strip()\n",
    "print(formatted_text)"
   ]
  },
  {
   "cell_type": "markdown",
   "id": "b2e72e5f-4a9c-4fe1-949c-d7653b34fcfe",
   "metadata": {},
   "source": [
    "### Example usage with invoke model"
   ]
  },
  {
   "cell_type": "code",
   "execution_count": 23,
   "id": "cddcc2af-b50e-4549-87fd-d926bff7b1c9",
   "metadata": {},
   "outputs": [
    {
     "name": "stdout",
     "output_type": "stream",
     "text": [
      "Response time: 6 second(s)\n",
      "Using Application Inf Profile::Response output: [{'text': '비용 효율적인 애플리케이션을 구성하기 위해 Amazon S3와 Amazon EFS 중 어떤 것을 사용할지 결정할 때는 다음과 같은 요소들을 고려해야 합니다:\\n\\n### Amazon S3\\n- **용도**: 객체 저장소로, 대용량의 비정형 데이터(문서, 미디어 파일 등) 저장에 적합.\\n- **비용**:\\n  - 저장 비용이 상대적으로 저렴함.\\n  - 데이터 전송 비용이 발생할 수 있음.\\n- **스케일러빌리티**: 무제한으로 확장 가능.\\n- **접근 속도**: 높은 대기 시간을 가질 수 있음 (몇 백 밀리초).\\n- **데이터 일관성**: 최종 일관성 모델을 따름.\\n\\n### Amazon EFS\\n- **용도**: 분산 파일 시스템으로, 여러 인스턴스에서 공유 파일 시스템을 필요로 할 때 사용.\\n- **비용**:\\n  - 저장 비용이 S3보다 비쌈.\\n  - 네트워크 처리 비용 및 처리량 비용 추가 발생.\\n- **스케일러빌리티**: 확장 가능하지만 S3만큼 무제한은 아님.\\n- **접근 속도**: 낮은 대기 시'}]\n"
     ]
    }
   ],
   "source": [
    "import json\n",
    "system_list = [\n",
    "            {\n",
    "                \"text\": \"You are an expert on AWS services and always provide correct and concise answers\"\n",
    "            }\n",
    "]\n",
    "message_list = [{\"role\": \"user\", \"content\": [{\"text\": \"비용 효율적인 애플리케이션을 구성하기 위해서는 Amazon S3 또는 EFS에 문서를 저장하는게 좋을까요??\"}]}]\n",
    "inf_params = {\"max_new_tokens\": 500, \"top_p\": 0.9, \"top_k\": 20, \"temperature\": 0.7}\n",
    "\n",
    "body = json.dumps({\n",
    "    \"schemaVersion\": \"messages-v1\",\n",
    "    \"system\": system_list,\n",
    "    \"messages\":message_list,\n",
    "    \"inferenceConfig\" : inf_params,\n",
    "}\n",
    ")\n",
    "\n",
    "accept = 'application/json'\n",
    "contentType = 'application/json'\n",
    "start = time()\n",
    "response = br.invoke_model(body=body, modelId=inf_profile_arn, accept=accept, contentType=contentType)\n",
    "end = time()\n",
    "response_body = json.loads(response.get('body').read())\n",
    "\n",
    "print(f\"Response time: {int(end-start)} second(s)\")\n",
    "print(f\"Using Application Inf Profile::Response output: {response_body['output']['message']['content']}\")"
   ]
  },
  {
   "cell_type": "code",
   "execution_count": 25,
   "id": "d38f40c8",
   "metadata": {},
   "outputs": [
    {
     "name": "stdout",
     "output_type": "stream",
     "text": [
      "비용 효율적인 애플리케이션을 구성하기 위해 Amazon S3와 Amazon EFS 중 어떤 것을 사용할지 결정할 때는 다음과 같은 요소들을 고려해야 합니다:\n",
      "\n",
      "### Amazon S3\n",
      "- 용도: 객체 저장소로, 대용량의 비정형 데이터(문서, 미디어 파일 등) 저장에 적합.\n",
      "- 비용:\n",
      "  - 저장 비용이 상대적으로 저렴함.\n",
      "  - 데이터 전송 비용이 발생할 수 있음.\n",
      "- 스케일러빌리티: 무제한으로 확장 가능.\n",
      "- 접근 속도: 높은 대기 시간을 가질 수 있음 (몇 백 밀리초).\n",
      "- 데이터 일관성: 최종 일관성 모델을 따름.\n",
      "\n",
      "### Amazon EFS\n",
      "- 용도: 분산 파일 시스템으로, 여러 인스턴스에서 공유 파일 시스템을 필요로 할 때 사용.\n",
      "- 비용:\n",
      "  - 저장 비용이 S3보다 비쌈.\n",
      "  - 네트워크 처리 비용 및 처리량 비용 추가 발생.\n",
      "- 스케일러빌리티: 확장 가능하지만 S3만큼 무제한은 아님.\n",
      "- 접근 속도: 낮은 대기 시\n"
     ]
    }
   ],
   "source": [
    "import re\n",
    "\n",
    "text = response_body['output']['message']['content'][0]['text']\n",
    "clean_text = re.sub(r'\\*\\*(.*?)\\*\\*', r'\\1', text)\n",
    "formatted_text = clean_text.strip()\n",
    "print(formatted_text)"
   ]
  },
  {
   "cell_type": "markdown",
   "id": "75275697-4a0d-4400-8f2b-7389bf4f7cf1",
   "metadata": {},
   "source": [
    "## 다중 리전 애플리케이션 추론 프로파일\n",
    "리전 간 애플리케이션 추론 프로파일을 생성하려면 크로스 리전 추론 프로파일의 ARN을 지정하고, 나머지 매개변수는 단일 리전 애플리케이션 추론 프로파일과 동일합니다.\n",
    "\n",
    "* inferenceProfileName - 추론 프로파일의 이름\n",
    "* modelSource - 다중 리전 애플리케이션 프로파일의 경우 copyFrom 속성에 크로스 리전(시스템 정의) 추론 프로파일의 ARN을 지정\n",
    "* description - 추론 프로파일에 대한 설명 (선택사항)\n",
    "* tags - 추론 프로파일에 태그 첨부. AWS 비용 할당 태그를 사용하여 비용 추적 가능. 프로젝트 ID, 부서 ID 또는 원하는 방식으로 비용 추적 가능"
   ]
  },
  {
   "cell_type": "code",
   "execution_count": 26,
   "id": "503adec7-f56e-4d44-9f6e-acab159790b5",
   "metadata": {},
   "outputs": [
    {
     "data": {
      "text/plain": [
       "{'inferenceProfileName': 'US Nova Pro',\n",
       " 'description': 'Routes requests to Nova Pro in us-east-1, us-west-2 and us-east-2.',\n",
       " 'createdAt': datetime.datetime(2024, 11, 29, 13, 23, tzinfo=tzutc()),\n",
       " 'updatedAt': datetime.datetime(2024, 11, 29, 13, 23, tzinfo=tzutc()),\n",
       " 'inferenceProfileArn': 'arn:aws:bedrock:us-east-1:603420654815:inference-profile/us.amazon.nova-pro-v1:0',\n",
       " 'models': [{'modelArn': 'arn:aws:bedrock:us-east-1::foundation-model/amazon.nova-pro-v1:0'},\n",
       "  {'modelArn': 'arn:aws:bedrock:us-west-2::foundation-model/amazon.nova-pro-v1:0'},\n",
       "  {'modelArn': 'arn:aws:bedrock:us-east-2::foundation-model/amazon.nova-pro-v1:0'}],\n",
       " 'inferenceProfileId': 'us.amazon.nova-pro-v1:0',\n",
       " 'status': 'ACTIVE',\n",
       " 'type': 'SYSTEM_DEFINED'}"
      ]
     },
     "execution_count": 26,
     "metadata": {},
     "output_type": "execute_result"
    }
   ],
   "source": [
    "cr_inf_profile = [ip for ip in bedrock.list_inference_profiles(typeEquals='SYSTEM_DEFINED')['inferenceProfileSummaries'] if ip['inferenceProfileName'] == 'US Nova Pro'][0]\n",
    "cr_inf_profile"
   ]
  },
  {
   "cell_type": "code",
   "execution_count": 27,
   "id": "27dea0dc-8ac1-4418-b94f-707a89bf1f6d",
   "metadata": {},
   "outputs": [],
   "source": [
    "cr_inf_profile_arn = 'arn:aws:bedrock:us-west-2::foundation-model/amazon.nova-pro-v1:0'\n",
    "cr_app_inf_profile_response = bedrock.create_inference_profile(\n",
    "    inferenceProfileName='NovaProSupplyCrossRegion',\n",
    "    description='Application profile for Nova Pro with cross regional routing',\n",
    "    modelSource={\n",
    "        'copyFrom': cr_inf_profile_arn\n",
    "    },\n",
    "    tags=[\n",
    "        {\n",
    "            'key': 'projectId',\n",
    "            'value': 'supply2026'\n",
    "        },\n",
    "    ]\n",
    ")"
   ]
  },
  {
   "cell_type": "code",
   "execution_count": 28,
   "id": "0c49fbcd-a6b9-4d8e-9f5c-1176620e7e5c",
   "metadata": {},
   "outputs": [
    {
     "data": {
      "text/plain": [
       "'arn:aws:bedrock:us-east-1:603420654815:application-inference-profile/5u28hty6yb03'"
      ]
     },
     "execution_count": 28,
     "metadata": {},
     "output_type": "execute_result"
    }
   ],
   "source": [
    "cr_app_inf_profile_arn = cr_app_inf_profile_response['inferenceProfileArn']\n",
    "cr_app_inf_profile_arn"
   ]
  },
  {
   "cell_type": "code",
   "execution_count": 29,
   "id": "a82d3992-031c-461e-80ae-f69fcf5e7b70",
   "metadata": {},
   "outputs": [
    {
     "data": {
      "text/plain": [
       "{'ResponseMetadata': {'RequestId': 'a6c92713-01de-437a-a00b-53e5f8fd41fb',\n",
       "  'HTTPStatusCode': 200,\n",
       "  'HTTPHeaders': {'date': 'Mon, 06 Jan 2025 11:46:38 GMT',\n",
       "   'content-type': 'application/json',\n",
       "   'content-length': '490',\n",
       "   'connection': 'keep-alive',\n",
       "   'x-amzn-requestid': 'a6c92713-01de-437a-a00b-53e5f8fd41fb'},\n",
       "  'RetryAttempts': 0},\n",
       " 'inferenceProfileName': 'NovaProSupplyCrossRegion',\n",
       " 'description': 'Application profile for Nova Pro with cross regional routing',\n",
       " 'createdAt': datetime.datetime(2025, 1, 6, 11, 46, 30, 716133, tzinfo=tzutc()),\n",
       " 'updatedAt': datetime.datetime(2025, 1, 6, 11, 46, 30, 716133, tzinfo=tzutc()),\n",
       " 'inferenceProfileArn': 'arn:aws:bedrock:us-east-1:603420654815:application-inference-profile/5u28hty6yb03',\n",
       " 'models': [{'modelArn': 'arn:aws:bedrock:us-west-2::foundation-model/amazon.nova-pro-v1:0'}],\n",
       " 'inferenceProfileId': '5u28hty6yb03',\n",
       " 'status': 'ACTIVE',\n",
       " 'type': 'APPLICATION'}"
      ]
     },
     "execution_count": 29,
     "metadata": {},
     "output_type": "execute_result"
    }
   ],
   "source": [
    "bedrock.get_inference_profile(inferenceProfileIdentifier=cr_app_inf_profile_arn)"
   ]
  },
  {
   "cell_type": "markdown",
   "id": "a8fa118b-b9a8-4825-9502-df4693b14be1",
   "metadata": {},
   "source": [
    "### Example usage Converse API"
   ]
  },
  {
   "cell_type": "code",
   "execution_count": 30,
   "id": "fabd26f0-3989-450f-95af-dd57cfb8cf4b",
   "metadata": {},
   "outputs": [
    {
     "name": "stdout",
     "output_type": "stream",
     "text": [
      "Response time: 9 second(s)\n",
      "Using Application Inf Profile::Response output: [{'text': '비용 효율적인 애플리케이션을 구성하기 위해 Amazon S3와 Amazon EFS를 비교할 때 다음과 같은 요소들을 고려해야 합니다:\\n\\n### Amazon S3\\n- **용도**: 객체 저장소로, 대용량의 비정형 데이터 (문서, 미디어 파일 등)를 저장하는 데 적합합니다.\\n- **비용**: 저장 비용이 상대적으로 저렴합니다. 자주 접근하지 않는 데이터의 경우 S3 Standard-IA나 S3 Glacier와 같은 저비용 스토리지 클래스를 사용할 수 있습니다.\\n- **스케일**: 거의 무제한으로 확장 가능합니다.\\n- **접근 속도**: 네트워크 지연 시간이 다소 길 수 있습니다.\\n\\n### Amazon EFS\\n- **용도**: 분산 파일 시스템으로, 여러 EC2 인스턴스에서 공유 파일 시스템을 필요로 할 때 적합합니다.\\n- **비용**: 저장 비용이 S3보다 높을 수 있습니다. 또한, 처음 1개월은 무료이지만 이후에는 스루풋과 관련된 비용이 추가됩니다.\\n- **스케일**: 수백 GB에서 수 페타바이트까지 확장 가능합니다.\\n- **접근 속도**: 네트워크 파일 시스템으로 접근 속도가 빠릅니다.\\n\\n### 결론\\n- **주로 읽기 중심의 대용량 데이터 저장**: Amazon S3가 더 비용 효율적입니다.\\n- **여러 인스턴스에서 공유되는 파일 시스템 필요**: Amazon EFS가 더 적합할 수 있지만 비용은 높을 수 있습니다.\\n\\n따라서, 문서를 단순히 저장하고 관리하는 경우에는 Amazon S3를, 여러 인스턴스에서 공유하고 빠른 접근이 필요한 경우에는 Amazon EFS를 고려하는 것이 좋습니다.'}]\n"
     ]
    }
   ],
   "source": [
    "from time import time\n",
    "system_prompt = \"You are an expert on AWS services and always provide correct and concise answers.\"\n",
    "input_message = \"비용 효율적인 애플리케이션을 구성하기 위해서는 Amazon S3 또는 EFS에 문서를 저장하는게 좋을까요?\"\n",
    "\n",
    "start = time()\n",
    "response = br.converse(\n",
    "    modelId=cr_app_inf_profile_arn,\n",
    "    system=[{\"text\": system_prompt}],\n",
    "    messages=[{\n",
    "        \"role\": \"user\",\n",
    "        \"content\": [{\"text\": input_message}]\n",
    "    }]\n",
    ")\n",
    "end = time()\n",
    "print(f\"Response time: {int(end-start)} second(s)\")\n",
    "print(f\"Using Application Inf Profile::Response output: {response['output']['message']['content']}\")"
   ]
  },
  {
   "cell_type": "code",
   "execution_count": 31,
   "id": "8405c78c",
   "metadata": {},
   "outputs": [
    {
     "name": "stdout",
     "output_type": "stream",
     "text": [
      "비용 효율적인 애플리케이션을 구성하기 위해 Amazon S3와 Amazon EFS를 비교할 때 다음과 같은 요소들을 고려해야 합니다:\n",
      "\n",
      "### Amazon S3\n",
      "- 용도: 객체 저장소로, 대용량의 비정형 데이터 (문서, 미디어 파일 등)를 저장하는 데 적합합니다.\n",
      "- 비용: 저장 비용이 상대적으로 저렴합니다. 자주 접근하지 않는 데이터의 경우 S3 Standard-IA나 S3 Glacier와 같은 저비용 스토리지 클래스를 사용할 수 있습니다.\n",
      "- 스케일: 거의 무제한으로 확장 가능합니다.\n",
      "- 접근 속도: 네트워크 지연 시간이 다소 길 수 있습니다.\n",
      "\n",
      "### Amazon EFS\n",
      "- 용도: 분산 파일 시스템으로, 여러 EC2 인스턴스에서 공유 파일 시스템을 필요로 할 때 적합합니다.\n",
      "- 비용: 저장 비용이 S3보다 높을 수 있습니다. 또한, 처음 1개월은 무료이지만 이후에는 스루풋과 관련된 비용이 추가됩니다.\n",
      "- 스케일: 수백 GB에서 수 페타바이트까지 확장 가능합니다.\n",
      "- 접근 속도: 네트워크 파일 시스템으로 접근 속도가 빠릅니다.\n",
      "\n",
      "### 결론\n",
      "- 주로 읽기 중심의 대용량 데이터 저장: Amazon S3가 더 비용 효율적입니다.\n",
      "- 여러 인스턴스에서 공유되는 파일 시스템 필요: Amazon EFS가 더 적합할 수 있지만 비용은 높을 수 있습니다.\n",
      "\n",
      "따라서, 문서를 단순히 저장하고 관리하는 경우에는 Amazon S3를, 여러 인스턴스에서 공유하고 빠른 접근이 필요한 경우에는 Amazon EFS를 고려하는 것이 좋습니다.\n"
     ]
    }
   ],
   "source": [
    "import re\n",
    "\n",
    "text = response['output']['message']['content'][0]['text']\n",
    "clean_text = re.sub(r'\\*\\*(.*?)\\*\\*', r'\\1', text)\n",
    "formatted_text = clean_text.strip()\n",
    "print(formatted_text)"
   ]
  },
  {
   "cell_type": "markdown",
   "id": "c1464a24-fb3b-417b-a653-d72886367cbb",
   "metadata": {},
   "source": [
    "### Example usage Invoke Model"
   ]
  },
  {
   "cell_type": "code",
   "execution_count": 34,
   "id": "83e0562b",
   "metadata": {},
   "outputs": [
    {
     "name": "stdout",
     "output_type": "stream",
     "text": [
      "Response time: 6 second(s)\n",
      "Using Application Inf Profile::Response output: [{'text': '비용 효율적인 애플리케이션을 구성하기 위해 Amazon S3와 Amazon EFS 중 어떤 것을 사용할지는 여러 요인에 따라 달라집니다. 각각의 특성을 이해하고 요구사항에 맞게 선택하는 것이 중요합니다.\\n\\n### Amazon S3\\n- **용도**: 객체 저장소로, 대규모의 비정형 데이터 (문서, 비디오, 이미지 등)를 저장하는 데 적합합니다.\\n- **비용**: 저장 비용이 상대적으로 저렴합니다. 또한, 데이터의 액세스 패턴에 따라 다른 스토리지 클래스 (Standard, Infrequent Access, Glacier 등)를 선택할 수 있습니다.\\n- **스케일**: 거의 무한한 스케일 아웃이 가능합니다.\\n- **접근성**: 객체는 HTTP(S)를 통해 전 세계에서 접근할 수 있습니다.\\n- **관리**: 관리 오버헤드가 낮습니다. AWS가 백엔드를 관리합니다.\\n\\n### Amazon EFS\\n- **용도**: 탄력적 파일 시스템으로, 여러 Amazon EC2 인스턴스에서 공유 파일 시스템을 필요로 할 때 사용합니다.\\n- **비용**: 스토리지 비용이 S3보다 비쌀 수 있습니다. 또한,'}]\n"
     ]
    }
   ],
   "source": [
    "import json\n",
    "system_list = [\n",
    "            {\n",
    "                \"text\": \"You are an expert on AWS services and always provide correct and concise answers\"\n",
    "            }\n",
    "]\n",
    "message_list = [{\"role\": \"user\", \"content\": [{\"text\": \"비용 효율적인 애플리케이션을 구성하기 위해서는 Amazon S3 또는 EFS에 문서를 저장하는게 좋을까요??\"}]}]\n",
    "inf_params = {\"max_new_tokens\": 500, \"top_p\": 0.9, \"top_k\": 20, \"temperature\": 0.7}\n",
    "\n",
    "body = json.dumps({\n",
    "    \"schemaVersion\": \"messages-v1\",\n",
    "    \"system\": system_list,\n",
    "    \"messages\":message_list,\n",
    "    \"inferenceConfig\" : inf_params,\n",
    "}\n",
    ")\n",
    "accept = 'application/json'\n",
    "contentType = 'application/json'\n",
    "start = time()\n",
    "response = br.invoke_model(body=body, modelId=cr_app_inf_profile_arn, accept=accept, contentType=contentType)\n",
    "end = time()\n",
    "response = json.loads(response.get('body').read())\n",
    "\n",
    "print(f\"Response time: {int(end-start)} second(s)\")\n",
    "print(f\"Using Application Inf Profile::Response output: {response['output']['message']['content']}\")\n",
    "\n"
   ]
  },
  {
   "cell_type": "code",
   "execution_count": 35,
   "id": "0a0854da",
   "metadata": {},
   "outputs": [
    {
     "name": "stdout",
     "output_type": "stream",
     "text": [
      "비용 효율적인 애플리케이션을 구성하기 위해 Amazon S3와 Amazon EFS 중 어떤 것을 사용할지는 여러 요인에 따라 달라집니다. 각각의 특성을 이해하고 요구사항에 맞게 선택하는 것이 중요합니다.\n",
      "\n",
      "### Amazon S3\n",
      "- 용도: 객체 저장소로, 대규모의 비정형 데이터 (문서, 비디오, 이미지 등)를 저장하는 데 적합합니다.\n",
      "- 비용: 저장 비용이 상대적으로 저렴합니다. 또한, 데이터의 액세스 패턴에 따라 다른 스토리지 클래스 (Standard, Infrequent Access, Glacier 등)를 선택할 수 있습니다.\n",
      "- 스케일: 거의 무한한 스케일 아웃이 가능합니다.\n",
      "- 접근성: 객체는 HTTP(S)를 통해 전 세계에서 접근할 수 있습니다.\n",
      "- 관리: 관리 오버헤드가 낮습니다. AWS가 백엔드를 관리합니다.\n",
      "\n",
      "### Amazon EFS\n",
      "- 용도: 탄력적 파일 시스템으로, 여러 Amazon EC2 인스턴스에서 공유 파일 시스템을 필요로 할 때 사용합니다.\n",
      "- 비용: 스토리지 비용이 S3보다 비쌀 수 있습니다. 또한,\n"
     ]
    }
   ],
   "source": [
    "import re\n",
    "\n",
    "text = response['output']['message']['content'][0]['text']\n",
    "clean_text = re.sub(r'\\*\\*(.*?)\\*\\*', r'\\1', text)\n",
    "formatted_text = clean_text.strip()\n",
    "print(formatted_text)"
   ]
  },
  {
   "cell_type": "markdown",
   "id": "ead96c21",
   "metadata": {},
   "source": [
    "# END OF NOTEBOOK "
   ]
  }
 ],
 "metadata": {
  "kernelspec": {
   "display_name": "infp",
   "language": "python",
   "name": "python3"
  },
  "language_info": {
   "codemirror_mode": {
    "name": "ipython",
    "version": 3
   },
   "file_extension": ".py",
   "mimetype": "text/x-python",
   "name": "python",
   "nbconvert_exporter": "python",
   "pygments_lexer": "ipython3",
   "version": "3.12.5"
  }
 },
 "nbformat": 4,
 "nbformat_minor": 5
}
