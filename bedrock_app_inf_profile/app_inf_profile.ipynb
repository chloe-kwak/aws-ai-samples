{
 "cells": [
  {
   "cell_type": "markdown",
   "id": "24b7b4c3-441f-4aa0-b652-6470abee1e63",
   "metadata": {},
   "source": [
    "# Amazon Bedrock Application Inference Profile\n",
    "\n",
    "이 노트북은 조직이 Amazon Bedrock 애플리케이션 추론 프로파일을 구현, 테스트, 검증 및 운영하는 방법을 보여줍니다. 애플리케이션 추론 프로파일을 효과적으로 관리하고 활용하는 방법에 대한 포괄적인 이해를 제공하는 것이 목표입니다.\n",
    "\n",
    "# Overview\n",
    "\n",
    "아마존 베드락 애플리케이션 추론 프로파일을 통해 조직은 모든 베드락 기반 파운데이션 모델에 비용 할당 태그를 지정하여 비용 센터, 사업 단위, 팀, 애플리케이션과 같은 조직 분류 체계별로 사용량을 분류할 수 있습니다. 여러 워크로드에서 AI 지출을 관리하는 이 확장 가능한 프로그래밍 방식은 수동 프로세스에 대한 의존도를 낮추고 비용 초과 위험을 줄이며 중요한 애플리케이션이 우선순위를 갖도록 보장합니다. AI 관련 비용에 대한 향상된 가시성과 제어 기능을 통해 조직은 GenAI 투자를 최적화하고 보다 효율적으로 혁신을 추진할 수 있습니다. 이 노트북은 애플리케이션 추론 프로필을 생성하고 모델을 호출하는 데 사용하는 방법을 보여줍니다.\n",
    "\n",
    "# Architecture\n",
    "![Architecture](./images/architecture.png)\n",
    "\n",
    "Amazon Bedrock의 추론 프로파일은 두 가지 유형이 있습니다:\n",
    "1. 크로스 리전 추론 프로파일\n",
    "- Bedrock 서비스가 사전 정의\n",
    "- 여러 리전으로 모델 요청을 라우팅\n",
    "- 복원력 향상과 처리량 개선\n",
    "- 트래픽 급증 관리에 효과적\n",
    "\n",
    "2. 애플리케이션 추론 프로파일\n",
    "- 사용자가 직접 생성\n",
    "- 단일 리전 또는 여러 리전으로 라우팅 가능\n",
    "- 비용과 모델 사용량 추적\n",
    "\n",
    "주요 이점:\n",
    "- CloudWatch 로그를 통한 사용량 지표 추적\n",
    "- 태그 기반 비용 모니터링\n",
    "- 크로스 리전 추론으로 처리량 향상\n",
    "\n",
    "이 노트북은 애플리케이션 추론 프로파일을 생성하고 이를 모델 호출에 활용하는 방법을 보여줍니다."
   ]
  },
  {
   "cell_type": "markdown",
   "id": "52629e8f",
   "metadata": {},
   "source": [
    "# Use case\n",
    "\n",
    "이 노트북에는 다음과 같은 다양한 Amazon Bedrock 애플리케이션 추론 프로파일 API 기능에 대한 구현, 테스트 및 유효성 검사 단계가 포함되어 있습니다:\n",
    "* Create Inference Profile\n",
    "* Get Inference Profile\n",
    "* List Inference Profiles\n",
    "* Invoke model with Inference Profile using Converse API\n",
    "* Invoke model with Inference Profile using ConverseStream API\n",
    "* Invoke model with Inference Profile using InvokeModel API\n",
    "* Invoke model with Inference Profile using InvokeModelWithResponseStream API\n",
    "* Tag Resource\n",
    "* List Tags For Resource\n",
    "* Untag Resource\n",
    "* Cleanup\n"
   ]
  },
  {
   "cell_type": "markdown",
   "id": "8d722e3c",
   "metadata": {},
   "source": [
    "## Prerequisites\n",
    "\n",
    "1. AWS 계정이 생성되었는지 확인합니다.: [Link](https://docs.aws.amazon.com/accounts/latest/reference/manage-acct-creating.html)\n",
    "2. 사용자에게 Amazon Bedrock에서 올바른 모델에 액세스할 수 있는 권한이 있는지 확인합니다.: [Link](https://docs.aws.amazon.com/bedrock/latest/userguide/model-access.html)\n",
    "3. 이 노트북은 AWS 자격 증명을 설정하여 진행했습니다."
   ]
  },
  {
   "cell_type": "markdown",
   "id": "1c8acd43",
   "metadata": {},
   "source": [
    "## Notebook Code with Comments"
   ]
  },
  {
   "cell_type": "markdown",
   "id": "5369eaa0-5983-4adf-a0ea-53a7616aad20",
   "metadata": {},
   "source": [
    "### Install dependecies"
   ]
  },
  {
   "cell_type": "code",
   "execution_count": null,
   "id": "9ecfefb2-2b51-47c8-9351-2eba17b842d5",
   "metadata": {},
   "outputs": [],
   "source": [
    "!pip install --upgrade --force-reinstall boto3 botocore awscli"
   ]
  },
  {
   "cell_type": "code",
   "execution_count": null,
   "id": "9b1326b6-2f62-4c01-80cb-c11e6c9869c3",
   "metadata": {},
   "outputs": [],
   "source": [
    "import boto3\n",
    "print(boto3.__version__)"
   ]
  },
  {
   "cell_type": "code",
   "execution_count": null,
   "id": "3e7d0b3e-a801-4243-b064-26a22c656f59",
   "metadata": {},
   "outputs": [],
   "source": [
    "import boto3\n",
    "import sagemaker\n",
    "import re\n",
    "import time\n",
    "import json\n",
    "\n",
    "session = boto3.Session()\n",
    "sagemaker_session = sagemaker.Session()\n",
    "#role = sagemaker.get_execution_role()\n",
    "current_region = sagemaker_session.boto_region_name \n",
    "\n",
    "bedrock = session.client(\"bedrock\", region_name=current_region)\n",
    "br = session.client(\"bedrock-runtime\", region_name=current_region)"
   ]
  },
  {
   "cell_type": "code",
   "execution_count": null,
   "id": "03af8b2e",
   "metadata": {},
   "outputs": [],
   "source": [
    "current_region"
   ]
  },
  {
   "cell_type": "markdown",
   "id": "70bca13b-6909-4de8-ac3f-ca82694607f0",
   "metadata": {},
   "source": [
    "### List application inference profiles"
   ]
  },
  {
   "cell_type": "code",
   "execution_count": null,
   "id": "356ba8c3-5739-44f9-b700-80f0104d23e1",
   "metadata": {},
   "outputs": [],
   "source": [
    "bedrock.list_inference_profiles(typeEquals='APPLICATION')"
   ]
  },
  {
   "cell_type": "markdown",
   "id": "8b933439-83ce-41b5-881d-afcda3cc03e5",
   "metadata": {},
   "source": [
    "### List cross region inference profiles"
   ]
  },
  {
   "cell_type": "code",
   "execution_count": null,
   "id": "e88f82fa-0a07-42a0-b1f7-5aa550b6b578",
   "metadata": {},
   "outputs": [],
   "source": [
    "bedrock.list_inference_profiles(typeEquals='SYSTEM_DEFINED')"
   ]
  },
  {
   "cell_type": "code",
   "execution_count": null,
   "id": "45c46b7a-b04a-4c8c-9fb6-fb2a425ce0f2",
   "metadata": {},
   "outputs": [],
   "source": [
    "models = [{'modelArn': fm['modelArn'], 'modelName':fm['modelName'], 'modelId': fm['modelId']} for fm in bedrock.list_foundation_models()['modelSummaries'] if fm['modelName'].startswith('Nova') and fm['modelLifecycle']['status']== 'ACTIVE']\n",
    "models"
   ]
  },
  {
   "cell_type": "markdown",
   "id": "2e5a8829-203c-4392-98ec-c3e92f7a26af",
   "metadata": {},
   "source": [
    "## Setup single Region application inference profile\n",
    "\n",
    "단일 리전에 대한 애플리케이션 추론 프로필을 생성하려면 기반 모델의 ARN을 지정해야 합니다. 해당 리전의 모델에 대한 요청의 사용량과 비용이 추적됩니다. 요청 생성 시 다음 매개변수를 제공해야 합니다:\n",
    "\n",
    "* inferenceProfileName - 추론 프로필의 이름\n",
    "* modelSource - 단일 리전의 경우 copyFrom 속성에 기반 모델의 ARN을 지정\n",
    "* description - 추론 프로필에 대한 설명 (선택사항)\n",
    "* tags - 추론 프로필에 태그 첨부. AWS 비용 할당 태그를 사용하여 비용 추적 가능. 프로젝트 ID, 부서 ID 또는 원하는 방식으로 비용 추적 가능"
   ]
  },
  {
   "cell_type": "code",
   "execution_count": null,
   "id": "20ca08cf-bed1-4b4a-a19d-54a42d220b00",
   "metadata": {},
   "outputs": [],
   "source": [
    "#Amazon Nova Pro\n",
    "#Model ARN: arn:aws:bedrock:us-east-1::foundation-model/amazon.nova-pro-v1:0\n",
    "#Model ID: amazon.nova-pro-v1:0\n",
    "\n",
    "modelId = 'amazon.nova-pro-v1:0'\n",
    "modelARN = [m['modelArn'] for m in models if m['modelId'] == modelId][0]\n",
    "modelId, modelARN "
   ]
  },
  {
   "cell_type": "code",
   "execution_count": 8,
   "id": "541c75a6-9820-479d-a6ed-e089fd25eec5",
   "metadata": {},
   "outputs": [],
   "source": [
    "inf_profile_response = bedrock.create_inference_profile(\n",
    "    inferenceProfileName='NovaProPart',\n",
    "    description='Application profile for Nova Pro',\n",
    "    modelSource={\n",
    "        'copyFrom': modelARN\n",
    "    },\n",
    "    tags=[\n",
    "        {\n",
    "            'key': 'projectId',\n",
    "            'value': 'parts2025'\n",
    "        },\n",
    "    ]\n",
    ")"
   ]
  },
  {
   "cell_type": "code",
   "execution_count": null,
   "id": "ea2afab6-3a7d-4ff9-b46a-43d8a53ff8e2",
   "metadata": {},
   "outputs": [],
   "source": [
    "inf_profile_arn = inf_profile_response['inferenceProfileArn']\n",
    "inf_profile_arn"
   ]
  },
  {
   "cell_type": "code",
   "execution_count": null,
   "id": "51e61e33-7522-417e-8731-29e7990648e1",
   "metadata": {},
   "outputs": [],
   "source": [
    "bedrock.get_inference_profile(inferenceProfileIdentifier=inf_profile_arn)"
   ]
  },
  {
   "cell_type": "code",
   "execution_count": null,
   "id": "21ef6641-a1e9-4753-bbeb-ac73a45b4d58",
   "metadata": {},
   "outputs": [],
   "source": [
    "inf_profile_id = bedrock.get_inference_profile(inferenceProfileIdentifier=inf_profile_arn)['inferenceProfileId']\n",
    "inf_profile_id"
   ]
  },
  {
   "cell_type": "markdown",
   "id": "3ba274dd-5f08-4b0a-a241-4f8b7f5a0eb6",
   "metadata": {},
   "source": [
    "### Example usage with Converse API\n",
    "\n",
    "추론 프로파일을 사용하려면 modelId 필드에 추론 프로파일의 ARN을 지정합니다. "
   ]
  },
  {
   "cell_type": "code",
   "execution_count": null,
   "id": "fde3c71a-2904-45fb-8e5d-c3cceb26561b",
   "metadata": {},
   "outputs": [],
   "source": [
    "from time import time\n",
    "from pprint import pprint\n",
    "system_prompt = \"You are an expert on AWS services and always provide correct and concise answers.\"\n",
    "input_message = \"비용 효율적인 애플리케이션을 구성하기 위해서는 Amazon S3 또는 EFS에 문서를 저장하는게 좋을까요??\"\n",
    "start = time()\n",
    "response = br.converse(\n",
    "    modelId=inf_profile_arn,\n",
    "    system=[{\"text\": system_prompt}],\n",
    "    messages=[{\n",
    "        \"role\": \"user\",\n",
    "        \"content\": [{\"text\": input_message}]\n",
    "    }]\n",
    ")\n",
    "end = time()\n",
    "\n",
    "print(f\"Response time: {int(end-start)} second(s)\")\n",
    "print(f\"Using Application Inf Profile::Response output: {response['output']['message']['content']}\")\n"
   ]
  },
  {
   "cell_type": "code",
   "execution_count": null,
   "id": "1d27e03a",
   "metadata": {},
   "outputs": [],
   "source": [
    "import re\n",
    "\n",
    "text = response['output']['message']['content'][0]['text']\n",
    "clean_text = re.sub(r'\\*\\*(.*?)\\*\\*', r'\\1', text)\n",
    "formatted_text = clean_text.strip()\n",
    "print(formatted_text)"
   ]
  },
  {
   "cell_type": "markdown",
   "id": "b2e72e5f-4a9c-4fe1-949c-d7653b34fcfe",
   "metadata": {},
   "source": [
    "### Example usage with invoke model"
   ]
  },
  {
   "cell_type": "code",
   "execution_count": null,
   "id": "cddcc2af-b50e-4549-87fd-d926bff7b1c9",
   "metadata": {},
   "outputs": [],
   "source": [
    "import json\n",
    "system_list = [\n",
    "            {\n",
    "                \"text\": \"You are an expert on AWS services and always provide correct and concise answers\"\n",
    "            }\n",
    "]\n",
    "message_list = [{\"role\": \"user\", \"content\": [{\"text\": \"비용 효율적인 애플리케이션을 구성하기 위해서는 Amazon S3 또는 EFS에 문서를 저장하는게 좋을까요??\"}]}]\n",
    "inf_params = {\"max_new_tokens\": 500, \"top_p\": 0.9, \"top_k\": 20, \"temperature\": 0.7}\n",
    "\n",
    "body = json.dumps({\n",
    "    \"schemaVersion\": \"messages-v1\",\n",
    "    \"system\": system_list,\n",
    "    \"messages\":message_list,\n",
    "    \"inferenceConfig\" : inf_params,\n",
    "}\n",
    ")\n",
    "\n",
    "accept = 'application/json'\n",
    "contentType = 'application/json'\n",
    "start = time()\n",
    "response = br.invoke_model(body=body, modelId=inf_profile_arn, accept=accept, contentType=contentType)\n",
    "end = time()\n",
    "response_body = json.loads(response.get('body').read())\n",
    "\n",
    "print(f\"Response time: {int(end-start)} second(s)\")\n",
    "print(f\"Using Application Inf Profile::Response output: {response_body['output']['message']['content']}\")"
   ]
  },
  {
   "cell_type": "code",
   "execution_count": null,
   "id": "d38f40c8",
   "metadata": {},
   "outputs": [],
   "source": [
    "import re\n",
    "\n",
    "text = response_body['output']['message']['content'][0]['text']\n",
    "clean_text = re.sub(r'\\*\\*(.*?)\\*\\*', r'\\1', text)\n",
    "formatted_text = clean_text.strip()\n",
    "print(formatted_text)"
   ]
  },
  {
   "cell_type": "markdown",
   "id": "75275697-4a0d-4400-8f2b-7389bf4f7cf1",
   "metadata": {},
   "source": [
    "## 다중 리전 애플리케이션 추론 프로파일\n",
    "리전 간 애플리케이션 추론 프로파일을 생성하려면 크로스 리전 추론 프로파일의 ARN을 지정하고, 나머지 매개변수는 단일 리전 애플리케이션 추론 프로파일과 동일합니다.\n",
    "\n",
    "* inferenceProfileName - 추론 프로파일의 이름\n",
    "* modelSource - 다중 리전 애플리케이션 프로파일의 경우 copyFrom 속성에 크로스 리전(시스템 정의) 추론 프로파일의 ARN을 지정\n",
    "* description - 추론 프로파일에 대한 설명 (선택사항)\n",
    "* tags - 추론 프로파일에 태그 첨부. AWS 비용 할당 태그를 사용하여 비용 추적 가능. 프로젝트 ID, 부서 ID 또는 원하는 방식으로 비용 추적 가능"
   ]
  },
  {
   "cell_type": "code",
   "execution_count": null,
   "id": "503adec7-f56e-4d44-9f6e-acab159790b5",
   "metadata": {},
   "outputs": [],
   "source": [
    "cr_inf_profile = [ip for ip in bedrock.list_inference_profiles(typeEquals='SYSTEM_DEFINED')['inferenceProfileSummaries'] if ip['inferenceProfileName'] == 'US Nova Pro'][0]\n",
    "cr_inf_profile"
   ]
  },
  {
   "cell_type": "code",
   "execution_count": 27,
   "id": "27dea0dc-8ac1-4418-b94f-707a89bf1f6d",
   "metadata": {},
   "outputs": [],
   "source": [
    "cr_inf_profile_arn = 'arn:aws:bedrock:us-west-2::foundation-model/amazon.nova-pro-v1:0'\n",
    "cr_app_inf_profile_response = bedrock.create_inference_profile(\n",
    "    inferenceProfileName='NovaProSupplyCrossRegion',\n",
    "    description='Application profile for Nova Pro with cross regional routing',\n",
    "    modelSource={\n",
    "        'copyFrom': cr_inf_profile_arn\n",
    "    },\n",
    "    tags=[\n",
    "        {\n",
    "            'key': 'projectId',\n",
    "            'value': 'supply2026'\n",
    "        },\n",
    "    ]\n",
    ")"
   ]
  },
  {
   "cell_type": "code",
   "execution_count": null,
   "id": "0c49fbcd-a6b9-4d8e-9f5c-1176620e7e5c",
   "metadata": {},
   "outputs": [],
   "source": [
    "cr_app_inf_profile_arn = cr_app_inf_profile_response['inferenceProfileArn']\n",
    "cr_app_inf_profile_arn"
   ]
  },
  {
   "cell_type": "code",
   "execution_count": null,
   "id": "a82d3992-031c-461e-80ae-f69fcf5e7b70",
   "metadata": {},
   "outputs": [],
   "source": [
    "bedrock.get_inference_profile(inferenceProfileIdentifier=cr_app_inf_profile_arn)"
   ]
  },
  {
   "cell_type": "markdown",
   "id": "a8fa118b-b9a8-4825-9502-df4693b14be1",
   "metadata": {},
   "source": [
    "### Example usage Converse API"
   ]
  },
  {
   "cell_type": "code",
   "execution_count": null,
   "id": "fabd26f0-3989-450f-95af-dd57cfb8cf4b",
   "metadata": {},
   "outputs": [],
   "source": [
    "from time import time\n",
    "system_prompt = \"You are an expert on AWS services and always provide correct and concise answers.\"\n",
    "input_message = \"비용 효율적인 애플리케이션을 구성하기 위해서는 Amazon S3 또는 EFS에 문서를 저장하는게 좋을까요?\"\n",
    "\n",
    "start = time()\n",
    "response = br.converse(\n",
    "    modelId=cr_app_inf_profile_arn,\n",
    "    system=[{\"text\": system_prompt}],\n",
    "    messages=[{\n",
    "        \"role\": \"user\",\n",
    "        \"content\": [{\"text\": input_message}]\n",
    "    }]\n",
    ")\n",
    "end = time()\n",
    "print(f\"Response time: {int(end-start)} second(s)\")\n",
    "print(f\"Using Application Inf Profile::Response output: {response['output']['message']['content']}\")"
   ]
  },
  {
   "cell_type": "code",
   "execution_count": null,
   "id": "8405c78c",
   "metadata": {},
   "outputs": [],
   "source": [
    "import re\n",
    "\n",
    "text = response['output']['message']['content'][0]['text']\n",
    "clean_text = re.sub(r'\\*\\*(.*?)\\*\\*', r'\\1', text)\n",
    "formatted_text = clean_text.strip()\n",
    "print(formatted_text)"
   ]
  },
  {
   "cell_type": "markdown",
   "id": "c1464a24-fb3b-417b-a653-d72886367cbb",
   "metadata": {},
   "source": [
    "### Example usage Invoke Model"
   ]
  },
  {
   "cell_type": "code",
   "execution_count": null,
   "id": "83e0562b",
   "metadata": {},
   "outputs": [],
   "source": [
    "import json\n",
    "system_list = [\n",
    "            {\n",
    "                \"text\": \"You are an expert on AWS services and always provide correct and concise answers\"\n",
    "            }\n",
    "]\n",
    "message_list = [{\"role\": \"user\", \"content\": [{\"text\": \"비용 효율적인 애플리케이션을 구성하기 위해서는 Amazon S3 또는 EFS에 문서를 저장하는게 좋을까요??\"}]}]\n",
    "inf_params = {\"max_new_tokens\": 500, \"top_p\": 0.9, \"top_k\": 20, \"temperature\": 0.7}\n",
    "\n",
    "body = json.dumps({\n",
    "    \"schemaVersion\": \"messages-v1\",\n",
    "    \"system\": system_list,\n",
    "    \"messages\":message_list,\n",
    "    \"inferenceConfig\" : inf_params,\n",
    "}\n",
    ")\n",
    "accept = 'application/json'\n",
    "contentType = 'application/json'\n",
    "start = time()\n",
    "response = br.invoke_model(body=body, modelId=cr_app_inf_profile_arn, accept=accept, contentType=contentType)\n",
    "end = time()\n",
    "response = json.loads(response.get('body').read())\n",
    "\n",
    "print(f\"Response time: {int(end-start)} second(s)\")\n",
    "print(f\"Using Application Inf Profile::Response output: {response['output']['message']['content']}\")\n",
    "\n"
   ]
  },
  {
   "cell_type": "code",
   "execution_count": null,
   "id": "0a0854da",
   "metadata": {},
   "outputs": [],
   "source": [
    "import re\n",
    "\n",
    "text = response['output']['message']['content'][0]['text']\n",
    "clean_text = re.sub(r'\\*\\*(.*?)\\*\\*', r'\\1', text)\n",
    "formatted_text = clean_text.strip()\n",
    "print(formatted_text)"
   ]
  },
  {
   "cell_type": "markdown",
   "id": "883ee0ed",
   "metadata": {},
   "source": [
    "### Delete Inference Profile"
   ]
  },
  {
   "cell_type": "code",
   "execution_count": null,
   "id": "a498aef6",
   "metadata": {},
   "outputs": [],
   "source": [
    "app_inf_profiles = bedrock.list_inference_profiles(typeEquals='APPLICATION')['inferenceProfileSummaries']\n",
    "app_inf_profiles"
   ]
  },
  {
   "cell_type": "code",
   "execution_count": null,
   "id": "b18910e4",
   "metadata": {},
   "outputs": [],
   "source": [
    "for app_ip in app_inf_profiles:\n",
    "    response = bedrock.delete_inference_profile(inferenceProfileIdentifier=app_ip['inferenceProfileArn'])"
   ]
  },
  {
   "cell_type": "code",
   "execution_count": null,
   "id": "1d279398",
   "metadata": {},
   "outputs": [],
   "source": [
    "app_inf_profiles = bedrock.list_inference_profiles(typeEquals='APPLICATION')['inferenceProfileSummaries']\n",
    "app_inf_profiles"
   ]
  },
  {
   "cell_type": "markdown",
   "id": "ead96c21",
   "metadata": {},
   "source": [
    "# END OF NOTEBOOK "
   ]
  },
  {
   "cell_type": "markdown",
   "id": "b3b6ccc0",
   "metadata": {},
   "source": [
    "## 관련 문서 \n",
    "- https://community.aws/content/2qB7GuzG89Dgz3kGvCpeyk2UU6o/application-inference-profiles-for-aws-bedrock-foundation-model-cost-and-access-management\n",
    "- https://community.aws/content/2oa6QAE7tgxmAsgAExXY2B2MqCV/getting-started-with-bedrock-application-inference-profile?lang=en\n",
    "- https://github.com/GopiKWork/amazon-bedrock/blob/main/inference-profiles/application_inference_profile.ipynb\n",
    "- https://aws.amazon.com/blogs/machine-learning/track-allocate-and-manage-your-generative-ai-cost-and-usage-with-amazon-bedrock/\n",
    "- https://github.com/aws-samples/amazon-bedrock-samples/blob/main/poc-to-prod/inference-profiles/inference-profile-basics.ipynb"
   ]
  }
 ],
 "metadata": {
  "kernelspec": {
   "display_name": "Python 3",
   "language": "python",
   "name": "python3"
  },
  "language_info": {
   "codemirror_mode": {
    "name": "ipython",
    "version": 3
   },
   "file_extension": ".py",
   "mimetype": "text/x-python",
   "name": "python",
   "nbconvert_exporter": "python",
   "pygments_lexer": "ipython3",
   "version": "3.12.5"
  }
 },
 "nbformat": 4,
 "nbformat_minor": 5
}
