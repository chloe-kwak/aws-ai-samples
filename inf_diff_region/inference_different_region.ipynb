{
 "cells": [
  {
   "cell_type": "markdown",
   "metadata": {},
   "source": [
    "# Amazon Bedrock - 다른 리전 추론하기"
   ]
  },
  {
   "cell_type": "markdown",
   "metadata": {
    "jp-MarkdownHeadingCollapsed": true
   },
   "source": [
    "## Overview\n",
    "\n",
    "이 노트북은 아마존 베드락을 ap-northeast-2 (서울리전)으로 사용할 때, 서울리전에서 지원하지 않는 모델을 사용해야 할 경우 참고할 수 있는 코드를 제공합니다."
   ]
  },
  {
   "cell_type": "markdown",
   "metadata": {},
   "source": [
    "## Use case \n",
    "\n",
    "- 개발이 특정 리전으로 되어 있고, 타리전의 베드락 모델을 사용해야 하는 경우"
   ]
  },
  {
   "cell_type": "markdown",
   "metadata": {},
   "source": [
    "## Prerequisites\n",
    "\n",
    "1. AWS 계정이 생성되었는지 확인합니다.: [Link](https://docs.aws.amazon.com/accounts/latest/reference/manage-acct-creating.html)\n",
    "2. 사용자에게 Amazon Bedrock에서 올바른 모델에 액세스할 수 있는 권한이 있는지 확인합니다.: [Link](https://docs.aws.amazon.com/bedrock/latest/userguide/model-access.html)\n",
    "3. 이 노트북은 AWS 자격 증명을 설정하여 진행했습니다."
   ]
  },
  {
   "cell_type": "markdown",
   "metadata": {},
   "source": [
    "## Notebook Code with Comments"
   ]
  },
  {
   "cell_type": "markdown",
   "metadata": {},
   "source": [
    "### Setting up the Bedrock clients\n",
    "\n",
    "첫 번째 셀에서 필요한 라이브러리를 가져와서 Amazon Bedrock용 `boto3` 클라이언트를 생성할 준비를 합니다.\n"
   ]
  },
  {
   "cell_type": "code",
   "execution_count": 4,
   "metadata": {},
   "outputs": [
    {
     "name": "stdout",
     "output_type": "stream",
     "text": [
      "Boto3 Version: 1.35.90\n",
      "Current Region: ap-northeast-2\n"
     ]
    }
   ],
   "source": [
    "# Import necessary libraries\n",
    "import os\n",
    "import json\n",
    "import boto3\n",
    "\n",
    "print(f\"Boto3 Version: {boto3.__version__}\")\n",
    "\n",
    "session = boto3.Session()\n",
    "current_region = session.region_name\n",
    "print(f\"Current Region: {current_region}\")"
   ]
  },
  {
   "cell_type": "markdown",
   "metadata": {},
   "source": [
    "### Building Amazon Bedrock inference function\n",
    "\n",
    "모델에 적합한 추론 파라미터를 사용하여 Amazon Bedrock을 호출하는 함수를 빌드합니다.\n",
    "특정 모델(amazon.nova-pro-v1:0)을 사용할 때만, 특정 리전(us-east-1)을 사용하게 설정합니다. 또한, 실제 어떤 리전에 접근했는지를 확인합니다. "
   ]
  },
  {
   "cell_type": "code",
   "execution_count": 10,
   "metadata": {},
   "outputs": [],
   "source": [
    "def get_text_response(model, input_content):\n",
    "    try:\n",
    "\n",
    "        # 소스 리전 설정\n",
    "        source_region = 'us-east-1' if model == \"amazon.nova-pro-v1:0\" else 'ap-northeast-2'\n",
    "        \n",
    "        client = boto3.client(\n",
    "            'bedrock-runtime',\n",
    "            region_name=source_region\n",
    "        )\n",
    "        \n",
    "        # 현재 리전 확인을 위한 STS 클라이언트\n",
    "        sts_client = boto3.client('sts')\n",
    "        cr_region = sts_client.meta.region_name\n",
    "\n",
    "        message = {\n",
    "            \"role\": \"user\",\n",
    "            \"content\": [{\"text\": input_content}]\n",
    "        }\n",
    "        \n",
    "        response = client.converse(\n",
    "            modelId=model,\n",
    "            messages=[message],\n",
    "            inferenceConfig={\n",
    "                \"maxTokens\": 2000,\n",
    "                \"temperature\": 0,\n",
    "                \"topP\": 0.9,\n",
    "                \"stopSequences\": []\n",
    "            }\n",
    "        )\n",
    "        \n",
    "        # 리전 정보 추가\n",
    "        response['region_info'] = {\n",
    "            'cr_region': cr_region,\n",
    "            'source_region': source_region\n",
    "        }\n",
    "        return response\n",
    "        \n",
    "    except Exception as e:\n",
    "        raise Exception(f\"Error calling Bedrock: {str(e)}\")\n"
   ]
  },
  {
   "cell_type": "markdown",
   "metadata": {},
   "source": [
    "### Inferencing with difference model_id\n",
    "\n",
    "Amazon Nova 모델은 현재 서울 리전이 지원되지 않기 때문에 이 모델을 사용할 경우, 소스 리전은 버지니어 리전으로 API가 호출되는 것을 확인할 수 있습니다."
   ]
  },
  {
   "cell_type": "code",
   "execution_count": 11,
   "metadata": {},
   "outputs": [
    {
     "name": "stdout",
     "output_type": "stream",
     "text": [
      "\n",
      "리전 정보:\n",
      "현재 리전: ap-northeast-2\n",
      "소스 리전: us-east-1\n",
      "\n",
      "전체 응답:\n",
      "{'ResponseMetadata': {'HTTPHeaders': {'connection': 'keep-alive',\n",
      "                                      'content-length': '1390',\n",
      "                                      'content-type': 'application/json',\n",
      "                                      'date': 'Thu, 02 Jan 2025 15:12:53 GMT',\n",
      "                                      'x-amzn-requestid': '02ab8c87-8b2a-4253-9084-b0191f40898f'},\n",
      "                      'HTTPStatusCode': 200,\n",
      "                      'RequestId': '02ab8c87-8b2a-4253-9084-b0191f40898f',\n",
      "                      'RetryAttempts': 0},\n",
      " 'metrics': {'latencyMs': 7371},\n",
      " 'output': {'message': {'content': [{'text': '오늘 날씨에 대한 정보는 실시간으로 변동할 수 있기 '\n",
      "                                             '때문에, 구체적인 날씨 정보를 제공하기 위해서는 현재 '\n",
      "                                             '위치와 시간을 기준으로 한 데이터가 필요합니다. 일반적으로 '\n",
      "                                             '날씨 정보를 얻는 몇 가지 방법은 다음과 같습니다:\\n'\n",
      "                                             '\\n'\n",
      "                                             '1. **스마트폰의 날씨 앱**: 대부분의 스마트폰에는 '\n",
      "                                             '날씨 앱이 기본으로 설치되어 있습니다. 이 앱을 열면 현재 '\n",
      "                                             '위치에 맞춘 실시간 날씨 정보를 확인할 수 있습니다.\\n'\n",
      "                                             '\\n'\n",
      "                                             '2. **웹 브라우저**: 구글, 네이버, 다음 등의 포털 '\n",
      "                                             '사이트에 접속하면 홈페이지 상단에 날씨 정보가 표시되어 '\n",
      "                                             '있습니다. 또는 날씨 검색어를 입력하여 검색할 수도 '\n",
      "                                             '있습니다.\\n'\n",
      "                                             '\\n'\n",
      "                                             '3. **기상 청 웹사이트**: 한국의 경우 기상 청 '\n",
      "                                             '웹사이트 (www.kma.go.kr)를 방문하면 상세한 '\n",
      "                                             '날씨 정보를 확인할 수 있습니다.\\n'\n",
      "                                             '\\n'\n",
      "                                             '4. **스마트 스피커**: 구글 어시스턴트, 시리, '\n",
      "                                             '알렉사 등의 음성 비서를 이용하여 날씨를 확인할 수 '\n",
      "                                             '있습니다. 예를 들어, \"오늘 날씨 어때?\"라고 물어보면 '\n",
      "                                             '됩니다.\\n'\n",
      "                                             '\\n'\n",
      "                                             '이런 방법을 통해 오늘의 날씨를 확인할 수 있습니다.'}],\n",
      "                        'role': 'assistant'}},\n",
      " 'region_info': {'cr_region': 'ap-northeast-2', 'source_region': 'us-east-1'},\n",
      " 'stopReason': 'end_turn',\n",
      " 'usage': {'inputTokens': 14, 'outputTokens': 580, 'totalTokens': 594}}\n"
     ]
    }
   ],
   "source": [
    "from pprint import pprint\n",
    "\n",
    "output = get_text_response(\"amazon.nova-pro-v1:0\", \"오늘 날씨는?\")\n",
    "print(\"\\n리전 정보:\")\n",
    "print(f\"현재 리전: {output['region_info']['cr_region']}\")\n",
    "print(f\"소스 리전: {output['region_info']['source_region']}\")\n",
    "print(\"\\n전체 응답:\")\n",
    "pprint(output)\n"
   ]
  },
  {
   "cell_type": "markdown",
   "metadata": {},
   "source": [
    "Anthropic사의 Claude 3 Haiku 모델은 현재 서울 리전이 지원되기 때문에 이 모델을 사용할 경우, 소스 리전도 동일하게 서울 리전으로 API가 호출되는 것을 확인할 수 있습니다."
   ]
  },
  {
   "cell_type": "code",
   "execution_count": 12,
   "metadata": {},
   "outputs": [
    {
     "name": "stdout",
     "output_type": "stream",
     "text": [
      "\n",
      "리전 정보:\n",
      "현재 리전: ap-northeast-2\n",
      "소스 리전: ap-northeast-2\n",
      "\n",
      "전체 응답:\n",
      "{'ResponseMetadata': {'HTTPHeaders': {'connection': 'keep-alive',\n",
      "                                      'content-length': '538',\n",
      "                                      'content-type': 'application/json',\n",
      "                                      'date': 'Thu, 02 Jan 2025 15:13:39 GMT',\n",
      "                                      'x-amzn-requestid': '4c9e89df-a30c-4fa8-994f-42e4907968d5'},\n",
      "                      'HTTPStatusCode': 200,\n",
      "                      'RequestId': '4c9e89df-a30c-4fa8-994f-42e4907968d5',\n",
      "                      'RetryAttempts': 0},\n",
      " 'metrics': {'latencyMs': 1351},\n",
      " 'output': {'message': {'content': [{'text': '죄송합니다. 제가 현재 날씨 정보를 알 수 있는 방법이 '\n",
      "                                             '없어서 정확한 날씨를 알려드리기 어렵습니다. 날씨는 '\n",
      "                                             '지역마다 다를 수 있기 때문에 사용자 분의 현재 위치를 '\n",
      "                                             '알아야 정확한 날씨 정보를 제공할 수 있습니다. 혹시 '\n",
      "                                             '사용자 분의 현재 위치를 알려주실 수 있나요?'}],\n",
      "                        'role': 'assistant'}},\n",
      " 'region_info': {'cr_region': 'ap-northeast-2',\n",
      "                 'source_region': 'ap-northeast-2'},\n",
      " 'stopReason': 'end_turn',\n",
      " 'usage': {'inputTokens': 17, 'outputTokens': 157, 'totalTokens': 174}}\n"
     ]
    }
   ],
   "source": [
    "from pprint import pprint\n",
    "\n",
    "output = get_text_response(\"anthropic.claude-3-haiku-20240307-v1:0\", \"오늘 날씨는?\")\n",
    "print(\"\\n리전 정보:\")\n",
    "print(f\"현재 리전: {output['region_info']['cr_region']}\")\n",
    "print(f\"소스 리전: {output['region_info']['source_region']}\")\n",
    "print(\"\\n전체 응답:\")\n",
    "pprint(output)\n"
   ]
  },
  {
   "cell_type": "markdown",
   "metadata": {},
   "source": [
    "# END OF NOTEBOOK "
   ]
  }
 ],
 "metadata": {
  "kernelspec": {
   "display_name": "bedrock",
   "language": "python",
   "name": "python3"
  },
  "language_info": {
   "codemirror_mode": {
    "name": "ipython",
    "version": 3
   },
   "file_extension": ".py",
   "mimetype": "text/x-python",
   "name": "python",
   "nbconvert_exporter": "python",
   "pygments_lexer": "ipython3",
   "version": "3.12.5"
  }
 },
 "nbformat": 4,
 "nbformat_minor": 4
}
